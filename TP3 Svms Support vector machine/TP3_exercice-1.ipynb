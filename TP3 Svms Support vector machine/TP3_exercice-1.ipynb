{
 "cells": [
  {
   "cell_type": "markdown",
   "metadata": {},
   "source": [
    "# TP3 - exercice 1 : le BA-BA des SVMs\n",
    "\n",
    "Dans cet exercice nous verrons comment apprendre un modèle SVM pour la classification à partir de la classe [**SVC**](http://scikit-learn.org/stable/modules/generated/sklearn.svm.SVC.html).\n",
    "\n",
    "Nous travaillerons toujours à partir du jeu de données **wine**, un jeu de données de classification mettant en jeu 3 catégories, dont on trouve un descriptif sur le [site de l'UCI](https://archive.ics.uci.edu/ml/machine-learning-databases/wine/wine.data).\n",
    "\n",
    "Nous en profiterons pour revoir comment construire des \"pipelines\". "
   ]
  },
  {
   "cell_type": "markdown",
   "metadata": {},
   "source": [
    "## Question 1. Charger le jeu de données stocké dans le fichier *wine.csv*. La variable à prédire est contenue dans la colonne *wine*  grâce au code ci-dessous.\n",
    "* Note : pour traiter un problème de classification multiclasse à $K$ catégories avec Scikit-Learn il est préférable de faire commencer les indices de classe à 0, i.e., de les encoder comme $0,1,...,K-1$."
   ]
  },
  {
   "cell_type": "code",
   "execution_count": null,
   "metadata": {
    "collapsed": true
   },
   "outputs": [],
   "source": [
    "# generic imports #\n",
    "#-----------------#\n",
    "import numpy as np\n",
    "import matplotlib\n",
    "import matplotlib.pyplot as plt"
   ]
  },
  {
   "cell_type": "code",
   "execution_count": null,
   "metadata": {
    "collapsed": true
   },
   "outputs": [],
   "source": []
  },
  {
   "cell_type": "markdown",
   "metadata": {},
   "source": [
    "## Question 2. Le code  ci-dessous permet d'instancier un modèle SVM pour la classification, pour une valeur du paramètre $C=1$, et la stratégie *one-versus-rest* comme mode multi-classe. A quoi correpondent ces paramètres ? Quel noyau est utilisé par défaut ?"
   ]
  },
  {
   "cell_type": "code",
   "execution_count": null,
   "metadata": {
    "collapsed": true
   },
   "outputs": [],
   "source": [
    "from sklearn.svm import SVC\n",
    "svm_clf = SVC(C = 1, decision_function_shape = 'ovr')"
   ]
  },
  {
   "cell_type": "markdown",
   "metadata": {},
   "source": [
    "## Question 3. Estimer les performances de ce modèle par validation croisée  et représenter les résultats sous la forme d'un boxplot."
   ]
  },
  {
   "cell_type": "code",
   "execution_count": null,
   "metadata": {
    "collapsed": true
   },
   "outputs": [],
   "source": []
  },
  {
   "cell_type": "markdown",
   "metadata": {},
   "source": [
    "## Question 3.Que fait la commande suivante ? Comment en déduit-on les résultats de classification ?"
   ]
  },
  {
   "cell_type": "code",
   "execution_count": null,
   "metadata": {
    "collapsed": true
   },
   "outputs": [],
   "source": [
    "from sklearn.model_selection import cross_val_predict\n",
    "cv_score = cross_val_predict(svm_clf, X, y, cv = 10, method = \"decision_function\")\n",
    "cv_score[0:10,:]"
   ]
  },
  {
   "cell_type": "markdown",
   "metadata": {},
   "source": [
    "## Question 4. Déduire la classe prédite à partir de la matrice *cv\\_pred* calculée ci-dessus et interpéter les résultats grâce aux fonctions *classification_report* et *confusion_matrix* du module *metrics*."
   ]
  },
  {
   "cell_type": "code",
   "execution_count": null,
   "metadata": {
    "collapsed": true
   },
   "outputs": [],
   "source": []
  },
  {
   "cell_type": "markdown",
   "metadata": {},
   "source": [
    "## Question 4. Optimiser les paramètre  du modèle par validation croisée en utilisant la classe *GridSearchCV*. On considéra des valeurs de $C$ comprises entre $10^{-3}$ et $10^3$ qu'on répartira de manière logarithmique (e.g., $10^{-3}$, $10^{-2}$, ..., $10^{2}$, $10^{3}$) et on considèrera les deux stragégies multiclasses (*ovr* et *ovo*). Avez-vous beaucoup amélioré les performances ?"
   ]
  },
  {
   "cell_type": "code",
   "execution_count": null,
   "metadata": {
    "collapsed": true
   },
   "outputs": [],
   "source": []
  },
  {
   "cell_type": "markdown",
   "metadata": {},
   "source": [
    "## Question 5. Reproduire cette analyse en considérant un \"pipeline\" d'analyse combinant (1) standardisation des descripteurs et (2) classification par SVM. Interpréter les résultats.\n",
    "* on rappelle qu'on construit des \"pipelines\" en utilisant la classe **Pipeline** (du module **pipeline**).\n",
    "* on rappelle également que la classe **StandardScaler** du module **preprocessing** permet de standardiser les descripteurs."
   ]
  },
  {
   "cell_type": "code",
   "execution_count": null,
   "metadata": {
    "collapsed": true
   },
   "outputs": [],
   "source": []
  }
 ],
 "metadata": {
  "kernelspec": {
   "display_name": "Python 3",
   "language": "python",
   "name": "python3"
  },
  "language_info": {
   "codemirror_mode": {
    "name": "ipython",
    "version": 3
   },
   "file_extension": ".py",
   "mimetype": "text/x-python",
   "name": "python",
   "nbconvert_exporter": "python",
   "pygments_lexer": "ipython3",
   "version": "3.6.1"
  }
 },
 "nbformat": 4,
 "nbformat_minor": 2
}
