{
 "cells": [
  {
   "cell_type": "markdown",
   "metadata": {},
   "source": [
    "# TP3 - exercice 4 : optimisation d'une SVM linéaire dans l'espace primal ou dual.\n",
    "\n",
    "Dans cet exercice nous verrons comment apprendre un modèle SVM pour la classification dans l'espace dual ou l'espace primal, à partir des classe [**SVC**](http://scikit-learn.org/stable/modules/generated/sklearn.svm.SVC.html) et [**LinearSVC**](http://scikit-learn.org/stable/modules/generated/sklearn.svm.LinearSVC.html).\n",
    "\n",
    "Pour cela nous travaillerons sur le jeu de données **MNIST** que l'on peut générer à partir de la fonction [fetch_mldata](http://scikit-learn.org/stable/modules/generated/sklearn.datasets.fetch_mldata.html) du module **datasets** de scikit-learn. \n",
    "Comme le jeu **digits**, ce jeu de données contient des imagettes de caractères manuscrits (des chiffres entre 0 et 1). Il est néanmoins plus conséquent que le jeu **digits** : il contient 60.000 instances d'apprentissage pour 10.000 instances de test, et chaque image est de taille 28x28 (au lieu de 8x8).\n",
    "\n",
    "Nous illustrerons que l'optimisation dans le primal peut être bien plus efficace quand le nombre d'observations (ici 60.000) dépasse le nombre de descripteurs (ici 784).\n"
   ]
  },
  {
   "cell_type": "markdown",
   "metadata": {},
   "source": [
    "## Question 1. Charger le jeu de MNIST et le découper en jeu d'apprentissage et jeu de test avec le code ci-dessous.\n",
    "* on rappelle que les 60.000 premières instances constituent le jeu d'apprentissage et les 10.000 dernières le jeu de test.\n",
    "* voir l'exercice 4 du TP2 si besoin."
   ]
  },
  {
   "cell_type": "code",
   "execution_count": null,
   "metadata": {
    "collapsed": true
   },
   "outputs": [],
   "source": [
    "# generic imports #\n",
    "#-----------------#\n",
    "import numpy as np\n",
    "import matplotlib\n",
    "import matplotlib.pyplot as plt"
   ]
  },
  {
   "cell_type": "code",
   "execution_count": null,
   "metadata": {
    "collapsed": true
   },
   "outputs": [],
   "source": [
    "# get data #\n",
    "#----------#\n",
    "from sklearn.datasets import fetch_mldata\n",
    "mnist = fetch_mldata('MNIST original')\n",
    "# split in train/test #\n",
    "#---------------------#\n",
    "X = mnist.data\n",
    "y = mnist.target\n",
    "y = y.astype('int')\n",
    "X_train, X_test, y_train, y_test = X[:60000,], X[60000:], y[:60000], y[60000:]\n",
    "# shuffle training set #\n",
    "#----------------------#\n",
    "# (otherwise starts will all 0's, 1's, ... - useful for the purpose of this exercice)\n",
    "ind = np.random.choice(len(y_train), size = len(y_train), replace = False)\n",
    "X_train = X_train[ind,:]\n",
    "y_train = y_train[ind]"
   ]
  },
  {
   "cell_type": "markdown",
   "metadata": {},
   "source": [
    "## Question 2. Nous considérons le problème de reconnaître le $0$ des autres chiffres. Construire un vecteur binaire indiquant si les chiffres d'apprentissage sont des $0$ ou des $1$."
   ]
  },
  {
   "cell_type": "code",
   "execution_count": null,
   "metadata": {
    "collapsed": true
   },
   "outputs": [],
   "source": []
  },
  {
   "cell_type": "markdown",
   "metadata": {},
   "source": [
    "## Question 3. La classe *LinearSVC* du module *svm* permet d'apprendre une SVM dans l'espace primal (par opposition à la classe *SVC* qui travaille dans l'espace dual). Quel est l'intérêt de travailler dans l'espace dual ? Instancier deux modèles avec le code ci-dessous."
   ]
  },
  {
   "cell_type": "code",
   "execution_count": null,
   "metadata": {
    "collapsed": true
   },
   "outputs": [],
   "source": [
    "# dual \n",
    "from sklearn.svm import SVC\n",
    "svm_dual = SVC(kernel = 'linear', C = 1)\n",
    "# primal\n",
    "from sklearn.svm import LinearSVC\n",
    "svm_primal = LinearSVC(C=1.0, dual=False)"
   ]
  },
  {
   "cell_type": "markdown",
   "metadata": {},
   "source": [
    "## Question 4. On peut mesurer le temps d'exécution d'une instruction (ou d'un bloc d'instructions) avec le code ci-dessous. Comparer le temps nécessaire à apprendre chacun des deux modèles précécents à partir des *1.000 premières instances* du jeu d'apprentissage. Qu'observez-vous ?\n",
    "* NB : on considèrera le **problème binaire** construit ci-dessus consistant à reconnaître les 0 des autres caractères."
   ]
  },
  {
   "cell_type": "code",
   "execution_count": null,
   "metadata": {
    "collapsed": true
   },
   "outputs": [],
   "source": [
    "import time\n",
    "\n",
    "start = time.time()\n",
    "print(\"hello\")\n",
    "end = time.time()\n",
    "print(end - start)\n"
   ]
  },
  {
   "cell_type": "code",
   "execution_count": null,
   "metadata": {
    "collapsed": true
   },
   "outputs": [],
   "source": []
  },
  {
   "cell_type": "markdown",
   "metadata": {},
   "source": [
    "## Question 5. Reproduire cette expérience en faisant croître la taille du jeu d'apprentissage de $1.000$ à $20.000$ par pas de $1.000$, et représenter les résultats sous la forme d'un graphique.\n",
    "* NB : attention, cette procédure prend quelques minutes."
   ]
  },
  {
   "cell_type": "code",
   "execution_count": null,
   "metadata": {
    "collapsed": true
   },
   "outputs": [],
   "source": []
  },
  {
   "cell_type": "markdown",
   "metadata": {},
   "source": [
    "## Question 6. Apprendre le modèle sur le jeu de données complet, en travaillant dans le primal. Combien de temps cela prend-il ? Estimer le temps nécessaire pour résoudre le problème initial (i.e., reconnaître les chiffres $0$ à $9$) par une stratégie \"One versus Rest\", et pour optimiser le paramètre $C$ par validation croisée (de type *GridSearchCV*). "
   ]
  },
  {
   "cell_type": "code",
   "execution_count": null,
   "metadata": {
    "collapsed": true
   },
   "outputs": [],
   "source": []
  },
  {
   "cell_type": "markdown",
   "metadata": {},
   "source": [
    "## Question 7 - pour aller plus loin. Optimiser le paramètre $C$ de la SVM linéaire par validation croisée en utilisant la classe *GridSearchCV*. Evaluer les performances sur le jeu de test, et représenter les poids du modèle pour tenter d'interpréter le modèle. Comparer avec les résultats obtenus par les forêts aléatoires dans l'exercice 4 du TP2. \n",
    "* NB: là aussi, cette procédure prend un peu de temps."
   ]
  },
  {
   "cell_type": "code",
   "execution_count": null,
   "metadata": {
    "collapsed": true
   },
   "outputs": [],
   "source": []
  }
 ],
 "metadata": {
  "kernelspec": {
   "display_name": "Python 3",
   "language": "python",
   "name": "python3"
  },
  "language_info": {
   "codemirror_mode": {
    "name": "ipython",
    "version": 3
   },
   "file_extension": ".py",
   "mimetype": "text/x-python",
   "name": "python",
   "nbconvert_exporter": "python",
   "pygments_lexer": "ipython3",
   "version": "3.6.1"
  }
 },
 "nbformat": 4,
 "nbformat_minor": 2
}
