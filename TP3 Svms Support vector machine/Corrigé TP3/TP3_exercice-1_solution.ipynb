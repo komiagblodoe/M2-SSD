{
 "cells": [
  {
   "cell_type": "markdown",
   "metadata": {},
   "source": [
    "# TP3 - exercice 1 : le BA-BA des SVMs\n",
    "\n",
    "Dans cet exercice nous verrons comment apprendre un modèle SVM pour la classification à partir de la classe [**SVC**](http://scikit-learn.org/stable/modules/generated/sklearn.svm.SVC.html).\n",
    "\n",
    "Nous travaillerons toujours à partir du jeu de données **wine**, un jeu de données de classification mettant en jeu 3 catégories, dont on trouve un descriptif sur le [site de l'UCI](https://archive.ics.uci.edu/ml/machine-learning-databases/wine/wine.data).\n",
    "\n",
    "Nous en profiterons pour revoir comment construire des \"pipelines\". "
   ]
  },
  {
   "cell_type": "markdown",
   "metadata": {},
   "source": [
    "## Question 1. Charger le jeu de données stocké dans le fichier *wine.csv*. La variable à prédire est contenue dans la colonne *wine*  grâce au code ci-dessous.\n",
    "* Note : pour traiter un problème de classification multiclasse à $K$ catégories avec Scikit-Learn il est préférable de faire commencer les indices de classe à 0, i.e., de les encoder comme $0,1,...,K-1$."
   ]
  },
  {
   "cell_type": "code",
   "execution_count": 1,
   "metadata": {
    "collapsed": true
   },
   "outputs": [],
   "source": [
    "# generic imports #\n",
    "#-----------------#\n",
    "import numpy as np\n",
    "import matplotlib\n",
    "import matplotlib.pyplot as plt"
   ]
  },
  {
   "cell_type": "code",
   "execution_count": 2,
   "metadata": {},
   "outputs": [
    {
     "name": "stdout",
     "output_type": "stream",
     "text": [
      "load dataset of size 178 x 13 involving 3 classes\n",
      "number of observation per categories :\n",
      "[59 71 48]\n"
     ]
    },
    {
     "data": {
      "image/png": "[encoded data removed]",
      "text/plain": [
       "<matplotlib.figure.Figure at 0x85d8710>"
      ]
     },
     "metadata": {},
     "output_type": "display_data"
    }
   ],
   "source": [
    "# get data using numpy #\n",
    "#----------------------#\n",
    "D = np.genfromtxt('wine.csv', delimiter = ',', skip_header = True)\n",
    "# extract X and y\n",
    "y = D[:,0]\n",
    "X = D[:,1:]\n",
    "# format y : make labels start at 0\n",
    "y = y.astype('int')\n",
    "class_ids = np.unique(y)\n",
    "y-=1 \n",
    "\n",
    "n = X.shape[0]\n",
    "p = X.shape[1]\n",
    "K = len(class_ids)\n",
    "print('load dataset of size %d x %d involving %d classes' % (n,p,K))\n",
    "print('number of observation per categories :')\n",
    "print(np.bincount(y))\n",
    "\n",
    "# show dataset constitution\n",
    "counts = np.bincount(y)\n",
    "plt.bar(range(K), counts)\n",
    "plt.ylabel('number of instances')\n",
    "plt.title('dataset constitution')\n",
    "plt.xlabel('wine category')\n",
    "plt.xticks(range(K), class_ids)\n",
    "plt.show()"
   ]
  },
  {
   "cell_type": "markdown",
   "metadata": {},
   "source": [
    "## Question 2. Le code  ci-dessous permet d'instancier un modèle SVM pour la classification, pour une valeur du paramètre $C=1$, et la stratégie *one-versus-rest* comme mode multi-classe. A quoi correpondent ces paramètres ? Quel noyau est utilisé par défaut ?"
   ]
  },
  {
   "cell_type": "code",
   "execution_count": 3,
   "metadata": {
    "collapsed": true
   },
   "outputs": [],
   "source": [
    "from sklearn.svm import SVC\n",
    "svm_clf = SVC(C = 1, decision_function_shape = 'ovr')"
   ]
  },
  {
   "cell_type": "markdown",
   "metadata": {},
   "source": [
    "## Question 3. Estimer les performances de ce modèle par validation croisée  et représenter les résultats sous la forme d'un boxplot."
   ]
  },
  {
   "cell_type": "code",
   "execution_count": 4,
   "metadata": {},
   "outputs": [
    {
     "data": {
      "image/png": "[encoded data removed]",
      "text/plain": [
       "<matplotlib.figure.Figure at 0x85abe48>"
      ]
     },
     "metadata": {},
     "output_type": "display_data"
    }
   ],
   "source": [
    "# estimate cross-validation performance of SVM by cross-valid\n",
    "from sklearn.model_selection import cross_val_score\n",
    "cv_perfs = cross_val_score(svm_clf, X, y, cv = 10)\n",
    "plt.boxplot(cv_perfs)\n",
    "plt.show()"
   ]
  },
  {
   "cell_type": "markdown",
   "metadata": {},
   "source": [
    "## Question 3.Que fait la commande suivante ? Comment en déduit-on les résultats de classification ?"
   ]
  },
  {
   "cell_type": "code",
   "execution_count": 5,
   "metadata": {},
   "outputs": [
    {
     "data": {
      "text/plain": [
       "array([[ 1.02257384,  2.23670077, -0.25927461],\n",
       "       [ 1.05169275,  2.21993682, -0.27162957],\n",
       "       [ 1.02232745,  2.23683524, -0.25916269],\n",
       "       [ 1.0223165 ,  2.23684122, -0.25915771],\n",
       "       [ 1.0223165 ,  2.23684122, -0.25915771],\n",
       "       [ 1.0223165 ,  2.23684122, -0.25915771],\n",
       "       [ 1.05220981,  2.14219967, -0.19440947],\n",
       "       [ 1.01825827,  2.16090356, -0.17916183],\n",
       "       [ 1.03804361,  2.15000378, -0.18804739],\n",
       "       [ 1.02446956,  2.15747831, -0.18194787]])"
      ]
     },
     "execution_count": 5,
     "metadata": {},
     "output_type": "execute_result"
    }
   ],
   "source": [
    "from sklearn.model_selection import cross_val_predict\n",
    "cv_score = cross_val_predict(svm_clf, X, y, cv = 10, method = \"decision_function\")\n",
    "cv_score[0:10,:]"
   ]
  },
  {
   "cell_type": "markdown",
   "metadata": {},
   "source": [
    "## Question 4. Déduire la classe prédite à partir de la matrice *cv\\_pred* calculée ci-dessus et interpéter les résultats grâce aux fonctions *classification_report* et *confusion_matrix* du module *metrics*."
   ]
  },
  {
   "cell_type": "code",
   "execution_count": 6,
   "metadata": {},
   "outputs": [
    {
     "name": "stdout",
     "output_type": "stream",
     "text": [
      "*** global accuray ***\n",
      "0.438202247191\n",
      "*** classification report ***\n",
      "             precision    recall  f1-score   support\n",
      "\n",
      "          0       0.80      0.07      0.12        59\n",
      "          1       0.41      0.99      0.58        71\n",
      "          2       1.00      0.08      0.15        48\n",
      "\n",
      "avg / total       0.70      0.44      0.32       178\n",
      "\n",
      "*** confusion matrix ***\n",
      "[[ 4 55  0]\n",
      " [ 1 70  0]\n",
      " [ 0 44  4]]\n"
     ]
    }
   ],
   "source": [
    "# extract top class\n",
    "cv_pred = np.argmax(cv_score, axis = 1)\n",
    "cv_pred.shape\n",
    "\n",
    "from sklearn.metrics import accuracy_score\n",
    "print('*** global accuray ***')\n",
    "print(accuracy_score(y, cv_pred))\n",
    "from sklearn.metrics import classification_report\n",
    "print('*** classification report ***')\n",
    "print(classification_report(y, cv_pred))\n",
    "from sklearn.metrics import confusion_matrix\n",
    "print('*** confusion matrix ***')\n",
    "print(confusion_matrix(y, cv_pred))"
   ]
  },
  {
   "cell_type": "markdown",
   "metadata": {},
   "source": [
    "## Question 4. Optimiser les paramètre  du modèle par validation croisée en utilisant la classe *GridSearchCV*. On considéra des valeurs de $C$ comprises entre $10^{-3}$ et $10^3$ qu'on répartira de manière logarithmique (e.g., $10^{-3}$, $10^{-2}$, ..., $10^{2}$, $10^{3}$) et on considèrera les deux stragégies multiclasses (*ovr* et *ovo*). Avez-vous beaucoup amélioré les performances ?"
   ]
  },
  {
   "cell_type": "code",
   "execution_count": 7,
   "metadata": {},
   "outputs": [
    {
     "name": "stdout",
     "output_type": "stream",
     "text": [
      "The best parameters are {'C': 2.154434690031882, 'decision_function_shape': 'ovr'} with a score of 0.47\n"
     ]
    }
   ],
   "source": [
    "# optimise parameters C = {0.001,....,1000} and two types of decision functions (one-vs-one and one-vs-rest) \n",
    "from sklearn.model_selection import GridSearchCV\n",
    "param_grid = {\n",
    "    'decision_function_shape': ['ovr','ovo'],\n",
    "    'C': np.logspace(-3,3, num=10)\n",
    "}\n",
    "svm_clf = SVC()\n",
    "grid_search = GridSearchCV(svm_clf, param_grid, cv = 10)\n",
    "grid_search.fit(X,y)\n",
    "\n",
    "print(\"The best parameters are %s with a score of %0.2f\"\n",
    "     % (grid_search.best_params_, grid_search.best_score_))"
   ]
  },
  {
   "cell_type": "markdown",
   "metadata": {},
   "source": [
    "## Question 5. Reproduire cette analyse en considérant un \"pipeline\" d'analyse combinant (1) standardisation des descripteurs et (2) classification par SVM. Interpréter les résultats.\n",
    "* on rappelle qu'on construit des \"pipelines\" en utilisant la classe **Pipeline** (du module **pipeline**).\n",
    "* on rappelle également que la classe **StandardScaler** du module **preprocessing** permet de standardiser les descripteurs."
   ]
  },
  {
   "cell_type": "code",
   "execution_count": 8,
   "metadata": {},
   "outputs": [
    {
     "name": "stdout",
     "output_type": "stream",
     "text": [
      "The best parameters are {'svm__C': 0.46415888336127775, 'svm__decision_function_shape': 'ovr'} with a score of 0.98\n"
     ]
    }
   ],
   "source": [
    "# do the same think using a pipeline integrating a prior step of feature standardization\n",
    "from sklearn.pipeline import Pipeline\n",
    "from sklearn.preprocessing import StandardScaler\n",
    "\n",
    "svm_pipe = Pipeline([\n",
    "    ('scaler', StandardScaler()),\n",
    "    ('svm', SVC())\n",
    "])\n",
    "\n",
    "param_grid_pipe = {\n",
    "    'svm__decision_function_shape': ['ovr','ovo'],\n",
    "    'svm__C': np.logspace(-3,3, num=10)\n",
    "}\n",
    "\n",
    "svm_clf = SVC()\n",
    "grid_search_pipe = GridSearchCV(svm_pipe, param_grid_pipe, cv = 10)\n",
    "grid_search_pipe.fit(X,y)\n",
    "\n",
    "print(\"The best parameters are %s with a score of %0.2f\"\n",
    "     % (grid_search_pipe.best_params_, grid_search_pipe.best_score_))"
   ]
  },
  {
   "cell_type": "code",
   "execution_count": null,
   "metadata": {
    "collapsed": true
   },
   "outputs": [],
   "source": []
  }
 ],
 "metadata": {
  "kernelspec": {
   "display_name": "Python 3",
   "language": "python",
   "name": "python3"
  },
  "language_info": {
   "codemirror_mode": {
    "name": "ipython",
    "version": 3
   },
   "file_extension": ".py",
   "mimetype": "text/x-python",
   "name": "python",
   "nbconvert_exporter": "python",
   "pygments_lexer": "ipython3",
   "version": "3.6.1"
  }
 },
 "nbformat": 4,
 "nbformat_minor": 2
}
