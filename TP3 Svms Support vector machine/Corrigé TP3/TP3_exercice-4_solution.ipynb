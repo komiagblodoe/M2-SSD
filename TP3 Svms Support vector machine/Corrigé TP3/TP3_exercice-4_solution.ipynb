{
 "cells": [
  {
   "cell_type": "markdown",
   "metadata": {},
   "source": [
    "# TP3 - exercice 4 : optimisation d'une SVM linéaire dans l'espace primal ou dual.\n",
    "\n",
    "Dans cet exercice nous verrons comment apprendre un modèle SVM pour la classification dans l'espace dual ou l'espace primal, à partir des classe [**SVC**](http://scikit-learn.org/stable/modules/generated/sklearn.svm.SVC.html) et [**LinearSVC**](http://scikit-learn.org/stable/modules/generated/sklearn.svm.LinearSVC.html).\n",
    "\n",
    "Pour cela nous travaillerons sur le jeu de données **MNIST** que l'on peut générer à partir de la fonction [fetch_mldata](http://scikit-learn.org/stable/modules/generated/sklearn.datasets.fetch_mldata.html) du module **datasets** de scikit-learn. \n",
    "Comme le jeu **digits**, ce jeu de données contient des imagettes de caractères manuscrits (des chiffres entre 0 et 1). Il est néanmoins plus conséquent que le jeu **digits** : il contient 60.000 instances d'apprentissage pour 10.000 instances de test, et chaque image est de taille 28x28 (au lieu de 8x8).\n",
    "\n",
    "Nous illustrerons que l'optimisation dans le primal peut être bien plus efficace quand le nombre d'observations (ici 60.000) dépasse le nombre de descripteurs (ici 784).\n"
   ]
  },
  {
   "cell_type": "markdown",
   "metadata": {},
   "source": [
    "## Question 1. Charger le jeu de MNIST et le découper en jeu d'apprentissage et jeu de test avec le code ci-dessous.\n",
    "* on rappelle que les 60.000 premières instances constituent le jeu d'apprentissage et les 10.000 dernières le jeu de test.\n",
    "* voir l'exercice 4 du TP2 si besoin."
   ]
  },
  {
   "cell_type": "code",
   "execution_count": 1,
   "metadata": {
    "collapsed": true
   },
   "outputs": [],
   "source": [
    "# generic imports #\n",
    "#-----------------#\n",
    "import numpy as np\n",
    "import matplotlib\n",
    "import matplotlib.pyplot as plt"
   ]
  },
  {
   "cell_type": "code",
   "execution_count": 2,
   "metadata": {},
   "outputs": [],
   "source": [
    "# get data #\n",
    "#----------#\n",
    "from sklearn.datasets import fetch_mldata\n",
    "mnist = fetch_mldata('MNIST original')\n",
    "# split in train/test #\n",
    "#---------------------#\n",
    "X = mnist.data\n",
    "y = mnist.target\n",
    "y = y.astype('int')\n",
    "X_train, X_test, y_train, y_test = X[:60000,], X[60000:], y[:60000], y[60000:]\n",
    "# shuffle training set #\n",
    "#----------------------#\n",
    "# (otherwise starts will all 0's, 1's, ... - useful for the purpose of this exercice)\n",
    "ind = np.random.choice(len(y_train), size = len(y_train), replace = False)\n",
    "X_train = X_train[ind,:]\n",
    "y_train = y_train[ind]"
   ]
  },
  {
   "cell_type": "markdown",
   "metadata": {},
   "source": [
    "## Question 2. Nous considérons le problème de reconnaître le $0$ des autres chiffres. Construire un vecteur binaire indiquant si le chiffres d'apprentissage sont des $0$ ou des $1$."
   ]
  },
  {
   "cell_type": "code",
   "execution_count": 3,
   "metadata": {
    "collapsed": true
   },
   "outputs": [],
   "source": [
    "# define a binary classification problem\n",
    "y_train_0 = np.zeros(y_train.shape)\n",
    "y_train_0[y_train == 0] = 1"
   ]
  },
  {
   "cell_type": "markdown",
   "metadata": {},
   "source": [
    "## Question 3. La classe *LinearSVC* du module *svm* permet d'apprendre une SVM dans l'espace primal (par opposition à la classe *SVC* qui travaille dans l'espace dual). Quel est l'intérêt de travailler dans l'espace dual ? Instancier deux modèles avec le code ci-dessous."
   ]
  },
  {
   "cell_type": "code",
   "execution_count": 4,
   "metadata": {
    "collapsed": true
   },
   "outputs": [],
   "source": [
    "# dual \n",
    "from sklearn.svm import SVC\n",
    "svm_dual = SVC(kernel = 'linear', C = 1)\n",
    "# primal\n",
    "from sklearn.svm import LinearSVC\n",
    "svm_primal = LinearSVC(C=1.0, dual=False)"
   ]
  },
  {
   "cell_type": "markdown",
   "metadata": {},
   "source": [
    "## Question 4. On peut mesurer le temps d'exécution d'une instruction (ou d'un bloc d'instructions) avec le code ci-dessous. Comparer le temps nécessaire à apprendre chacun des deux modèles précécents à partir des *1.000 premières instances* du jeu d'apprentissage. Qu'observez-vous ?\n",
    "* NB : on considèrera le **problème binaire** construit ci-dessus consistant à reconnaître les 0 des autres caractères."
   ]
  },
  {
   "cell_type": "code",
   "execution_count": 5,
   "metadata": {},
   "outputs": [
    {
     "name": "stdout",
     "output_type": "stream",
     "text": [
      "hello\n",
      "0.0\n"
     ]
    }
   ],
   "source": [
    "import time\n",
    "\n",
    "start = time.time()\n",
    "print(\"hello\")\n",
    "end = time.time()\n",
    "print(end - start)"
   ]
  },
  {
   "cell_type": "code",
   "execution_count": 6,
   "metadata": {},
   "outputs": [
    {
     "name": "stdout",
     "output_type": "stream",
     "text": [
      "time taken to fit model in the dual = 0.119300 seconds\n",
      "time taken to fit model in the primal = 0.015600 seconds\n"
     ]
    }
   ],
   "source": [
    "start = time.time()\n",
    "svm_dual.fit(X_train[:1000,:], y_train_0[:1000])\n",
    "end = time.time()\n",
    "print('time taken to fit model in the dual = %f seconds' % (end - start))\n",
    "\n",
    "start = time.time()\n",
    "svm_primal.fit(X_train[:1000,:], y_train_0[:1000])\n",
    "end = time.time()\n",
    "print('time taken to fit model in the primal = %f seconds' % (end - start))"
   ]
  },
  {
   "cell_type": "markdown",
   "metadata": {},
   "source": [
    "## Question 5. Reproduire cette expérience en faisant croître la taille du jeu d'apprentissage de $1.000$ à $20.000$ par pas de $1.000$, et représenter les résultats sous la forme d'un graphique. "
   ]
  },
  {
   "cell_type": "code",
   "execution_count": 7,
   "metadata": {},
   "outputs": [
    {
     "name": "stdout",
     "output_type": "stream",
     "text": [
      "*** processing 1000 instances ***\n",
      "*** processing 2000 instances ***\n",
      "*** processing 3000 instances ***\n",
      "*** processing 4000 instances ***\n",
      "*** processing 5000 instances ***\n",
      "*** processing 6000 instances ***\n",
      "*** processing 7000 instances ***\n",
      "*** processing 8000 instances ***\n",
      "*** processing 9000 instances ***\n",
      "*** processing 10000 instances ***\n",
      "*** processing 11000 instances ***\n",
      "*** processing 12000 instances ***\n",
      "*** processing 13000 instances ***\n",
      "*** processing 14000 instances ***\n",
      "*** processing 15000 instances ***\n",
      "*** processing 16000 instances ***\n",
      "*** processing 17000 instances ***\n",
      "*** processing 18000 instances ***\n",
      "*** processing 19000 instances ***\n",
      "*** processing 20000 instances ***\n"
     ]
    }
   ],
   "source": [
    "size_grid = np.arange(1000,20001,1000)\n",
    "time_dual = np.zeros(len(size_grid))\n",
    "time_primal = np.zeros(len(size_grid))\n",
    "for i in range(len(size_grid)) :\n",
    "    print('*** processing %d instances ***' % size_grid[i] )\n",
    "    start = time.time()\n",
    "    svm_dual.fit(X_train[:size_grid[i],:], y_train_0[:size_grid[i]])\n",
    "    end = time.time()\n",
    "    #print('time taken to fit model in the dual = %f seconds' % (end - start))\n",
    "    time_dual[i] = end - start\n",
    "    start = time.time()\n",
    "    svm_primal.fit(X_train[:size_grid[i],:], y_train_0[:size_grid[i]])\n",
    "    end = time.time()\n",
    "    #print('time taken to fit model in the primal = %f seconds' % (end - start))\n",
    "    time_primal[i] = end - start"
   ]
  },
  {
   "cell_type": "code",
   "execution_count": 8,
   "metadata": {},
   "outputs": [
    {
     "data": {
      "image/png": "[encoded data removed]",
      "text/plain": [
       "<matplotlib.figure.Figure at 0xf91a630>"
      ]
     },
     "metadata": {},
     "output_type": "display_data"
    }
   ],
   "source": [
    "plt.plot(size_grid, time_dual, label = 'dual')\n",
    "plt.plot(size_grid, time_primal, label = 'primal')\n",
    "plt.legend()\n",
    "plt.xlabel('number of training instances')\n",
    "plt.ylabel('time (seconds)')\n",
    "plt.title('training time')\n",
    "plt.show()"
   ]
  },
  {
   "cell_type": "markdown",
   "metadata": {},
   "source": [
    "## Question 6. Apprendre le modèle sur le jeu de données complet, en travaillant dans le primal. Combien de temps cela prend-il ? Estimer le temps nécessaire pour résoudre le problème initial (i.e., reconnaître les chiffres $0$ à $9$) par une stratégie \"One versus Rest\", et pour optimiser le paramètre $C$ par validation croisée (de type *GridSearchCV*). "
   ]
  },
  {
   "cell_type": "code",
   "execution_count": 9,
   "metadata": {},
   "outputs": [
    {
     "name": "stdout",
     "output_type": "stream",
     "text": [
      "time taken to fit model in the primal = 33.955200 seconds\n"
     ]
    }
   ],
   "source": [
    "start = time.time()\n",
    "svm_primal.fit(X_train, y_train_0)\n",
    "end = time.time()\n",
    "print('time taken to fit model in the primal = %f seconds' % (end - start))"
   ]
  },
  {
   "cell_type": "markdown",
   "metadata": {},
   "source": [
    "## Question 7 - pour aller plus loin. Optimiser le paramètre $C$ de la SVM linéaire par validation croisée en utilisant la classe *GridSearchCV*. Evaluer les performances sur le jeu de test, et représenter les poids du modèle pour tenter d'interpréter le modèle. Comparer avec les résultats obtenus par les forêts aléatoires dans l'exercice 4 du TP2. "
   ]
  },
  {
   "cell_type": "code",
   "execution_count": 10,
   "metadata": {},
   "outputs": [
    {
     "name": "stdout",
     "output_type": "stream",
     "text": [
      "The best parameters are {'C': 100} with a score of 0.99\n"
     ]
    }
   ],
   "source": [
    "from sklearn.model_selection import GridSearchCV\n",
    "svm = LinearSVC()\n",
    "param_grid = {'C':[0.01,0.1,1,10,100]}\n",
    "grid_search = GridSearchCV(svm, param_grid, cv = 5)\n",
    "grid_search.fit(X_train, y_train_0)\n",
    "print(\"The best parameters are %s with a score of %0.2f\"\n",
    "     % (grid_search.best_params_, grid_search.best_score_))"
   ]
  },
  {
   "cell_type": "code",
   "execution_count": 11,
   "metadata": {},
   "outputs": [
    {
     "name": "stdout",
     "output_type": "stream",
     "text": [
      "[[  60  920    0    0    0    0    0    0    0    0]\n",
      " [1135    0    0    0    0    0    0    0    0    0]\n",
      " [1017   15    0    0    0    0    0    0    0    0]\n",
      " [1003    7    0    0    0    0    0    0    0    0]\n",
      " [ 982    0    0    0    0    0    0    0    0    0]\n",
      " [ 885    7    0    0    0    0    0    0    0    0]\n",
      " [ 952    6    0    0    0    0    0    0    0    0]\n",
      " [1026    2    0    0    0    0    0    0    0    0]\n",
      " [ 971    3    0    0    0    0    0    0    0    0]\n",
      " [1004    5    0    0    0    0    0    0    0    0]]\n"
     ]
    }
   ],
   "source": [
    "# evaluate model\n",
    "y_pred = grid_search.best_estimator_.predict(X_test)\n",
    "from sklearn.metrics import confusion_matrix\n",
    "print(confusion_matrix(y_test, y_pred))"
   ]
  },
  {
   "cell_type": "code",
   "execution_count": 12,
   "metadata": {},
   "outputs": [
    {
     "data": {
      "image/png": "[encoded data removed]",
      "text/plain": [
       "<matplotlib.figure.Figure at 0xfd7d550>"
      ]
     },
     "metadata": {},
     "output_type": "display_data"
    }
   ],
   "source": [
    "# show variable importance\n",
    "tt = np.reshape(grid_search.best_estimator_.coef_, (28,28))\n",
    "plt.imshow(tt)\n",
    "plt.colorbar()\n",
    "plt.show()"
   ]
  },
  {
   "cell_type": "code",
   "execution_count": null,
   "metadata": {
    "collapsed": true
   },
   "outputs": [],
   "source": []
  }
 ],
 "metadata": {
  "kernelspec": {
   "display_name": "Python 3",
   "language": "python",
   "name": "python3"
  },
  "language_info": {
   "codemirror_mode": {
    "name": "ipython",
    "version": 3
   },
   "file_extension": ".py",
   "mimetype": "text/x-python",
   "name": "python",
   "nbconvert_exporter": "python",
   "pygments_lexer": "ipython3",
   "version": "3.6.1"
  }
 },
 "nbformat": 4,
 "nbformat_minor": 2
}
