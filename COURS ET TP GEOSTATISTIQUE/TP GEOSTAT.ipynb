{
 "cells": [
  {
   "cell_type": "code",
   "execution_count": 2,
   "metadata": {},
   "outputs": [
    {
     "ename": "TypeError",
     "evalue": "only integer scalar arrays can be converted to a scalar index",
     "output_type": "error",
     "traceback": [
      "\u001b[1;31m---------------------------------------------------------------------------\u001b[0m",
      "\u001b[1;31mTypeError\u001b[0m                                 Traceback (most recent call last)",
      "\u001b[1;32m<ipython-input-2-a99550c8ac85>\u001b[0m in \u001b[0;36m<module>\u001b[1;34m\u001b[0m\n\u001b[0;32m     25\u001b[0m \u001b[1;31m#Simulate Poisson point process\u001b[0m\u001b[1;33m\u001b[0m\u001b[1;33m\u001b[0m\u001b[1;33m\u001b[0m\u001b[0m\n\u001b[0;32m     26\u001b[0m \u001b[0mnumbPoints\u001b[0m \u001b[1;33m=\u001b[0m \u001b[0mscipy\u001b[0m\u001b[1;33m.\u001b[0m\u001b[0mstats\u001b[0m\u001b[1;33m.\u001b[0m\u001b[0mpoisson\u001b[0m\u001b[1;33m(\u001b[0m \u001b[0mrho\u001b[0m\u001b[1;33m*\u001b[0m\u001b[0mareaTotal\u001b[0m \u001b[1;33m)\u001b[0m\u001b[1;33m.\u001b[0m\u001b[0mrvs\u001b[0m\u001b[1;33m(\u001b[0m\u001b[1;33m)\u001b[0m\u001b[1;31m#Poisson number of points\u001b[0m\u001b[1;33m\u001b[0m\u001b[1;33m\u001b[0m\u001b[0m\n\u001b[1;32m---> 27\u001b[1;33m \u001b[0mxx\u001b[0m \u001b[1;33m=\u001b[0m \u001b[0mxDelta\u001b[0m\u001b[1;33m*\u001b[0m\u001b[0mscipy\u001b[0m\u001b[1;33m.\u001b[0m\u001b[0mstats\u001b[0m\u001b[1;33m.\u001b[0m\u001b[0muniform\u001b[0m\u001b[1;33m.\u001b[0m\u001b[0mrvs\u001b[0m\u001b[1;33m(\u001b[0m\u001b[1;36m0\u001b[0m\u001b[1;33m,\u001b[0m\u001b[1;36m1\u001b[0m\u001b[1;33m,\u001b[0m\u001b[1;33m(\u001b[0m\u001b[1;33m(\u001b[0m\u001b[0mnumbPoints\u001b[0m\u001b[1;33m,\u001b[0m\u001b[1;36m1\u001b[0m\u001b[1;33m)\u001b[0m\u001b[1;33m)\u001b[0m\u001b[1;33m)\u001b[0m\u001b[1;33m+\u001b[0m\u001b[0mxMin\u001b[0m\u001b[1;31m#x coordinates of Poisson points\u001b[0m\u001b[1;33m\u001b[0m\u001b[1;33m\u001b[0m\u001b[0m\n\u001b[0m\u001b[0;32m     28\u001b[0m \u001b[0myy\u001b[0m \u001b[1;33m=\u001b[0m \u001b[0myDelta\u001b[0m\u001b[1;33m*\u001b[0m\u001b[0mscipy\u001b[0m\u001b[1;33m.\u001b[0m\u001b[0mstats\u001b[0m\u001b[1;33m.\u001b[0m\u001b[0muniform\u001b[0m\u001b[1;33m.\u001b[0m\u001b[0mrvs\u001b[0m\u001b[1;33m(\u001b[0m\u001b[1;36m0\u001b[0m\u001b[1;33m,\u001b[0m\u001b[1;36m1\u001b[0m\u001b[1;33m,\u001b[0m\u001b[1;33m(\u001b[0m\u001b[1;33m(\u001b[0m\u001b[0mnumbPoints\u001b[0m\u001b[1;33m,\u001b[0m\u001b[1;36m1\u001b[0m\u001b[1;33m)\u001b[0m\u001b[1;33m)\u001b[0m\u001b[1;33m)\u001b[0m\u001b[1;33m+\u001b[0m\u001b[0myMin\u001b[0m\u001b[1;31m#y coordinates of Poisson points\u001b[0m\u001b[1;33m\u001b[0m\u001b[1;33m\u001b[0m\u001b[0m\n\u001b[0;32m     29\u001b[0m \u001b[1;33m\u001b[0m\u001b[0m\n",
      "\u001b[1;32mC:\\Users\\im2ag\\Downloads\\WPy64-3741\\python-3.7.4.amd64\\lib\\site-packages\\scipy\\stats\\_distn_infrastructure.py\u001b[0m in \u001b[0;36mrvs\u001b[1;34m(self, *args, **kwds)\u001b[0m\n\u001b[0;32m    974\u001b[0m         \u001b[1;31m# by _rvs().\u001b[0m\u001b[1;33m\u001b[0m\u001b[1;33m\u001b[0m\u001b[1;33m\u001b[0m\u001b[0m\n\u001b[0;32m    975\u001b[0m         \u001b[0mself\u001b[0m\u001b[1;33m.\u001b[0m\u001b[0m_size\u001b[0m \u001b[1;33m=\u001b[0m \u001b[0msize\u001b[0m\u001b[1;33m\u001b[0m\u001b[1;33m\u001b[0m\u001b[0m\n\u001b[1;32m--> 976\u001b[1;33m         \u001b[0mvals\u001b[0m \u001b[1;33m=\u001b[0m \u001b[0mself\u001b[0m\u001b[1;33m.\u001b[0m\u001b[0m_rvs\u001b[0m\u001b[1;33m(\u001b[0m\u001b[1;33m*\u001b[0m\u001b[0margs\u001b[0m\u001b[1;33m)\u001b[0m\u001b[1;33m\u001b[0m\u001b[1;33m\u001b[0m\u001b[0m\n\u001b[0m\u001b[0;32m    977\u001b[0m \u001b[1;33m\u001b[0m\u001b[0m\n\u001b[0;32m    978\u001b[0m         \u001b[0mvals\u001b[0m \u001b[1;33m=\u001b[0m \u001b[0mvals\u001b[0m \u001b[1;33m*\u001b[0m \u001b[0mscale\u001b[0m \u001b[1;33m+\u001b[0m \u001b[0mloc\u001b[0m\u001b[1;33m\u001b[0m\u001b[1;33m\u001b[0m\u001b[0m\n",
      "\u001b[1;32mC:\\Users\\im2ag\\Downloads\\WPy64-3741\\python-3.7.4.amd64\\lib\\site-packages\\scipy\\stats\\_continuous_distns.py\u001b[0m in \u001b[0;36m_rvs\u001b[1;34m(self)\u001b[0m\n\u001b[0;32m   6513\u001b[0m     \"\"\"\n\u001b[0;32m   6514\u001b[0m     \u001b[1;32mdef\u001b[0m \u001b[0m_rvs\u001b[0m\u001b[1;33m(\u001b[0m\u001b[0mself\u001b[0m\u001b[1;33m)\u001b[0m\u001b[1;33m:\u001b[0m\u001b[1;33m\u001b[0m\u001b[1;33m\u001b[0m\u001b[0m\n\u001b[1;32m-> 6515\u001b[1;33m         \u001b[1;32mreturn\u001b[0m \u001b[0mself\u001b[0m\u001b[1;33m.\u001b[0m\u001b[0m_random_state\u001b[0m\u001b[1;33m.\u001b[0m\u001b[0muniform\u001b[0m\u001b[1;33m(\u001b[0m\u001b[1;36m0.0\u001b[0m\u001b[1;33m,\u001b[0m \u001b[1;36m1.0\u001b[0m\u001b[1;33m,\u001b[0m \u001b[0mself\u001b[0m\u001b[1;33m.\u001b[0m\u001b[0m_size\u001b[0m\u001b[1;33m)\u001b[0m\u001b[1;33m\u001b[0m\u001b[1;33m\u001b[0m\u001b[0m\n\u001b[0m\u001b[0;32m   6516\u001b[0m \u001b[1;33m\u001b[0m\u001b[0m\n\u001b[0;32m   6517\u001b[0m     \u001b[1;32mdef\u001b[0m \u001b[0m_pdf\u001b[0m\u001b[1;33m(\u001b[0m\u001b[0mself\u001b[0m\u001b[1;33m,\u001b[0m \u001b[0mx\u001b[0m\u001b[1;33m)\u001b[0m\u001b[1;33m:\u001b[0m\u001b[1;33m\u001b[0m\u001b[1;33m\u001b[0m\u001b[0m\n",
      "\u001b[1;32mmtrand.pyx\u001b[0m in \u001b[0;36mmtrand.RandomState.uniform\u001b[1;34m()\u001b[0m\n",
      "\u001b[1;32mmtrand.pyx\u001b[0m in \u001b[0;36mmtrand.cont2_array_sc\u001b[1;34m()\u001b[0m\n",
      "\u001b[1;31mTypeError\u001b[0m: only integer scalar arrays can be converted to a scalar index"
     ]
    }
   ],
   "source": [
    "import numpy as np\n",
    "import scipy.stats\n",
    "import matplotlib.pyplot as plt\n",
    " \n",
    "#Simulation window parameters\n",
    "xMin=0\n",
    "xMax=1\n",
    "yMin=0\n",
    "yMax=1\n",
    "xDelta=xMax-xMin\n",
    "yDelta=yMax-yMin \n",
    "areaTotal=xDelta*yDelta\n",
    "\n",
    "rho=10**3*xDelta*yDelta\n",
    "\n",
    "rho=np.array([])\n",
    "\n",
    "#Numerical integration\n",
    "\n",
    "\n",
    "\n",
    "#Point process parameters\n",
    "lambda0=100 #intensity (ie mean density) of the Poisson process\n",
    " \n",
    "#Simulate Poisson point process\n",
    "numbPoints = scipy.stats.poisson( rho*areaTotal ).rvs()#Poisson number of points\n",
    "xx = xDelta*scipy.stats.uniform.rvs(0,1,((numbPoints,1)))+xMin#x coordinates of Poisson points\n",
    "yy = yDelta*scipy.stats.uniform.rvs(0,1,((numbPoints,1)))+yMin#y coordinates of Poisson points\n",
    "\n",
    "#Plotting\n",
    "plt.scatter(xx,yy, edgecolor='b', facecolor='none', alpha=0.5 )\n",
    "plt.xlabel(\"x\"); plt.ylabel(\"y\")"
   ]
  },
  {
   "cell_type": "code",
   "execution_count": 3,
   "metadata": {},
   "outputs": [
    {
     "name": "stdout",
     "output_type": "stream",
     "text": [
      "[[   0.            0.            0.         ...    0.\n",
      "     0.            0.        ]\n",
      " [   0.            1.04058273    2.08116545 ...   30.17689906\n",
      "    31.21748179   32.25806452]\n",
      " [   0.            2.08116545    4.16233091 ...   60.35379813\n",
      "    62.43496358   64.51612903]\n",
      " ...\n",
      " [   0.           30.17689906   60.35379813 ...  875.13007284\n",
      "   905.3069719   935.48387097]\n",
      " [   0.           31.21748179   62.43496358 ...  905.3069719\n",
      "   936.52445369  967.74193548]\n",
      " [   0.           32.25806452   64.51612903 ...  935.48387097\n",
      "   967.74193548 1000.        ]]\n"
     ]
    },
    {
     "ename": "AttributeError",
     "evalue": "module 'numpy.random' has no attribute 'multivariate_poisson'",
     "output_type": "error",
     "traceback": [
      "\u001b[1;31m---------------------------------------------------------------------------\u001b[0m",
      "\u001b[1;31mAttributeError\u001b[0m                            Traceback (most recent call last)",
      "\u001b[1;32m<ipython-input-3-6d7270f388ef>\u001b[0m in \u001b[0;36m<module>\u001b[1;34m\u001b[0m\n\u001b[0;32m     18\u001b[0m \u001b[1;33m\u001b[0m\u001b[0m\n\u001b[0;32m     19\u001b[0m \u001b[1;33m\u001b[0m\u001b[0m\n\u001b[1;32m---> 20\u001b[1;33m \u001b[0mres\u001b[0m \u001b[1;33m=\u001b[0m \u001b[0mnp\u001b[0m\u001b[1;33m.\u001b[0m\u001b[0mrandom\u001b[0m\u001b[1;33m.\u001b[0m\u001b[0mmultivariate_poisson\u001b[0m\u001b[1;33m(\u001b[0m\u001b[0mlambda0\u001b[0m\u001b[1;33m)\u001b[0m\u001b[1;33m\u001b[0m\u001b[1;33m\u001b[0m\u001b[0m\n\u001b[0m",
      "\u001b[1;31mAttributeError\u001b[0m: module 'numpy.random' has no attribute 'multivariate_poisson'"
     ]
    }
   ],
   "source": [
    "\n",
    "# Partie 2 Processus de Poisson\n",
    "\n",
    "n=32\n",
    "x=np.linspace(0,1,n)\n",
    "y=np.linspace(0,1,n)\n",
    "rho=np.zeros([n,n])\n",
    "\n",
    "for i in range(1,n):\n",
    "    for j in range(1,n):\n",
    "        rho[i,j]= x[i]*y[j]*10**3\n",
    " \n",
    "print(rho)\n",
    "rho.shape\n",
    "\n",
    "lambda0=np.sum(rho*1/(n-1)**2) \n",
    "\n",
    "numbPoints = scipy.stats.poisson(rho).rvs()\n",
    "\n",
    "x=np.zeros(2,n)\n",
    "for i in range(1,n):\n",
    "    \n",
    "\n",
    "res = np.random.multivariate_poisson(lambda0)    \n"
   ]
  },
  {
   "cell_type": "code",
   "execution_count": 6,
   "metadata": {},
   "outputs": [
    {
     "data": {
      "image/png": "[encoded data removed]",
      "text/plain": [
       "<Figure size 432x288 with 1 Axes>"
      ]
     },
     "metadata": {
      "needs_background": "light"
     },
     "output_type": "display_data"
    }
   ],
   "source": [
    "import numpy as np\n",
    "import matplotlib.pyplot as plt\n",
    " \n",
    "# Prepare data\n",
    "N = 50 # step\n",
    "lambdas = [1, 2, 5]\n",
    "X_T = [np.random.poisson(lam, size=N) for lam in lambdas]\n",
    "S = [[np.sum(X[0:i]) for i in range(N)] for X in X_T]\n",
    "X = np.linspace(0, N, N)\n",
    " \n",
    "# Plot the graph\n",
    "graphs = [plt.step(X, S[i], label=\"Lambda = %d\"%lambdas[i])[0] for i in range(len(lambdas))]\n",
    "plt.legend(handles=graphs, loc=2)\n",
    "plt.title(\"Poisson Process\", fontdict={'fontname': 'Times New Roman', 'fontsize': 21}, y=1.03)\n",
    "plt.ylim(0)\n",
    "plt.xlim(0)\n",
    "plt.show()"
   ]
  },
  {
   "cell_type": "code",
   "execution_count": null,
   "metadata": {},
   "outputs": [],
   "source": []
  }
 ],
 "metadata": {
  "kernelspec": {
   "display_name": "Python 3",
   "language": "python",
   "name": "python3"
  },
  "language_info": {
   "codemirror_mode": {
    "name": "ipython",
    "version": 3
   },
   "file_extension": ".py",
   "mimetype": "text/x-python",
   "name": "python",
   "nbconvert_exporter": "python",
   "pygments_lexer": "ipython3",
   "version": "3.7.4"
  }
 },
 "nbformat": 4,
 "nbformat_minor": 2
}
