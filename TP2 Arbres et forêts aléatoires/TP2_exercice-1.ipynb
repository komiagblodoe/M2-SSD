{
 "cells": [
  {
   "cell_type": "markdown",
   "metadata": {
    "collapsed": true
   },
   "source": [
    "# TP2 - exercice 1 : le BA-BA des arbres de décisions avec scikit-learn \n",
    "\n",
    "Dans cet exercice nous allons apprendre à manipuler la classe **DecisionTreeClassifier** du module **tree** qui permet de réaliser de la classification par la méthode des arbres de décision. \n",
    "\n",
    "Nous travaillerons pour cela sur le jeu de données **Iris** que l'on peut [charger à partir de scikit-learn](http://scikit-learn.org/stable/modules/generated/sklearn.datasets.load_iris.html#sklearn.datasets.load_iris) et dont on trouve un descriptif sur [Wikipedia](https://en.wikipedia.org/wiki/Iris_flower_data_set).\n",
    "\n",
    "Nous verrons comment construire un classifieur (l'appliquer pour obtenir des prédictions) et visualiser l'arbre de décision correspondant."
   ]
  },
  {
   "cell_type": "markdown",
   "metadata": {},
   "source": [
    "## Question 1. Charger le jeu de données en utilisant la fonction *load_iris*  du module *datasets*. En extraire le nombre d'observations, de descripteurs ainsi que le nombre de classes."
   ]
  },
  {
   "cell_type": "code",
   "execution_count": null,
   "metadata": {
    "collapsed": true
   },
   "outputs": [],
   "source": [
    "# generic imports #\n",
    "#-----------------#\n",
    "import numpy as np\n",
    "import matplotlib\n",
    "import matplotlib.pyplot as plt"
   ]
  },
  {
   "cell_type": "code",
   "execution_count": null,
   "metadata": {},
   "outputs": [],
   "source": []
  },
  {
   "cell_type": "markdown",
   "metadata": {},
   "source": [
    "## Question 2. Découper le jeu de données en ensemble d'apprentissage (80%) et ensemble de test (20%), de manière stratifiée.\n",
    "* on utilisera la fonction **train_test_split** du module *model_selection*\n",
    "* le découpage est *stratifié* si on retrouve les mêmes proportions des différentes catégories dans les jeux d'apprentisage et de test : se référer à la documentation de la fonction **train_test_split** pour voir comment faire."
   ]
  },
  {
   "cell_type": "code",
   "execution_count": null,
   "metadata": {
    "collapsed": true
   },
   "outputs": [],
   "source": []
  },
  {
   "cell_type": "markdown",
   "metadata": {},
   "source": [
    "## Question 3. Construire un arbre de décision à partir des données d'apprentissage en utilisant la classe *DecisionTreeClassifier*. On conservera tous les paramètres par défaut à l'exception de la profondeur maximale de l'arbre, qu'on fixera à 3.\n",
    "* Rappel: pour apprendre/construire un modèle dans scikit-learn il faut : \n",
    "    1. l'instancier via le constructeur de la classe correspondante (en lui spécifiant la valeur des hyperparamètres, si besoin)\n",
    "    2. appeler la méthode **fit** avec les données d'apprentissage $(X,y)$ en argument"
   ]
  },
  {
   "cell_type": "code",
   "execution_count": null,
   "metadata": {},
   "outputs": [],
   "source": []
  },
  {
   "cell_type": "markdown",
   "metadata": {},
   "source": [
    "## Question 4. Comparer les performances obtenues sur le jeu de test et sur le jeu d'apprentissage.\n",
    "* Rappel: pour réaliser la prédiction, il suffit d'appeler la méthode **predict** du classifier, avec les données de test comme argument."
   ]
  },
  {
   "cell_type": "code",
   "execution_count": null,
   "metadata": {},
   "outputs": [],
   "source": []
  },
  {
   "cell_type": "markdown",
   "metadata": {},
   "source": [
    "## Question 5. Enfin, utiliser le code ci-dessous pour visualiser l'arbre obtenu.\n",
    "* NB : la sortie graphique proposée par scikit-learn s'appuie sur les outils [GraphViz](http://www.graphviz.org/) qui ne sont pas toujours bien compatible avec Windows. Ce code devrait néanmoins fonctionner sous Linux ou Mac.\n",
    "* Dans ce code, l'objet *tree_clf* est l'objet abre de décision construit précédemment. "
   ]
  },
  {
   "cell_type": "code",
   "execution_count": null,
   "metadata": {},
   "outputs": [],
   "source": [
    "# re-fit on entire dataset \n",
    "tree_clf.fit(X,y)\n",
    "# show tree\n",
    "import graphviz \n",
    "dot_data = tree.export_graphviz(tree_clf, out_file=None) \n",
    "graph = graphviz.Source(dot_data) \n",
    "graph.render(\"iris\")"
   ]
  }
 ],
 "metadata": {
  "kernelspec": {
   "display_name": "Python 3",
   "language": "python",
   "name": "python3"
  },
  "language_info": {
   "codemirror_mode": {
    "name": "ipython",
    "version": 3
   },
   "file_extension": ".py",
   "mimetype": "text/x-python",
   "name": "python",
   "nbconvert_exporter": "python",
   "pygments_lexer": "ipython3",
   "version": "3.6.1"
  }
 },
 "nbformat": 4,
 "nbformat_minor": 2
}
