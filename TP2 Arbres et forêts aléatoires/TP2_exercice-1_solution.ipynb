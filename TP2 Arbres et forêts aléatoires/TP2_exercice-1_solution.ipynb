{
 "cells": [
  {
   "cell_type": "markdown",
   "metadata": {
    "collapsed": true
   },
   "source": [
    "# TP2 - exercice 1 : le BA-BA des arbres de décisions avec scikit-learn \n",
    "\n",
    "Dans cet exercice nous allons apprendre à manipuler la classe **DecisionTreeClassifier** du module **tree** qui permet de réaliser de la classification par la méthode des arbres de décision. \n",
    "\n",
    "Nous travaillerons pour cela sur le jeu de données **Iris** que l'on peut [charger à partir de scikit-learn](http://scikit-learn.org/stable/modules/generated/sklearn.datasets.load_iris.html#sklearn.datasets.load_iris) et dont on trouve un descriptif sur [Wikipedia](https://en.wikipedia.org/wiki/Iris_flower_data_set).\n",
    "\n",
    "Nous verrons comment construire un classifieur (l'appliquer pour obtenir des prédictions) et visualiser l'arbre de décision correspondant."
   ]
  },
  {
   "cell_type": "markdown",
   "metadata": {},
   "source": [
    "## Question 1. Charger le jeu de données en utilisant la fonction *load_iris*  du module *datasets*. En extraire le nombre d'observations, de descripteurs ainsi que le nombre de classes."
   ]
  },
  {
   "cell_type": "code",
   "execution_count": 1,
   "metadata": {
    "collapsed": true
   },
   "outputs": [],
   "source": [
    "# generic imports #\n",
    "#-----------------#\n",
    "import numpy as np\n",
    "import matplotlib\n",
    "import matplotlib.pyplot as plt"
   ]
  },
  {
   "cell_type": "code",
   "execution_count": 2,
   "metadata": {},
   "outputs": [
    {
     "name": "stdout",
     "output_type": "stream",
     "text": [
      "the Iris dataset is made of 150 instances and 4 features. There are 3 classes : setosa ; versicolor ; virginica\n"
     ]
    }
   ],
   "source": [
    "from sklearn.datasets import load_iris\n",
    "from sklearn.tree import DecisionTreeClassifier\n",
    "\n",
    "iris = load_iris()\n",
    "X = iris.data\n",
    "y = iris.target\n",
    "class_ids = iris.target_names\n",
    "\n",
    "print('the Iris dataset is made of %d instances and %d features. There are %d classes : %s' \n",
    "      % (X.shape[0], X.shape[1], len(class_ids), \" ; \".join(class_ids)))"
   ]
  },
  {
   "cell_type": "markdown",
   "metadata": {},
   "source": [
    "## Question 2. Découper le jeu de données en ensemble d'apprentissage (80%) et ensemble de test (20%), de manière stratifiée.\n",
    "* on utilisera la fonction **train_test_split** du module *model_selection*\n",
    "* le découpage est *stratifié* si on retrouve les mêmes proportions des différentes catégories dans les jeux d'apprentisage et de test : se référer à la documentation de la fonction **train_test_split** pour voir comment faire."
   ]
  },
  {
   "cell_type": "code",
   "execution_count": 3,
   "metadata": {
    "collapsed": true
   },
   "outputs": [],
   "source": [
    "from sklearn.model_selection import train_test_split\n",
    "X_train, X_test, y_train, y_test = train_test_split(X, y, stratify = y, test_size = 0.2)"
   ]
  },
  {
   "cell_type": "markdown",
   "metadata": {},
   "source": [
    "## Question 3. Construire un arbre de décision à partir des données d'apprentissage en utilisant la classe *DecisionTreeClassifier*. On conservera tous les paramètres par défaut à l'exception de la profondeur maximale de l'arbre, qu'on fixera à 3.\n",
    "* Rappel: pour apprendre/construire un modèle dans scikit-learn il faut : \n",
    "    1. l'instancier via le constructeur de la classe correspondante (en lui spécifiant la valeur des hyperparamètres, si besoin)\n",
    "    2. appeler la méthode **fit** avec les données d'apprentissage $(X,y)$ en argument"
   ]
  },
  {
   "cell_type": "code",
   "execution_count": 4,
   "metadata": {},
   "outputs": [
    {
     "data": {
      "text/plain": [
       "DecisionTreeClassifier(class_weight=None, criterion='gini', max_depth=3,\n",
       "            max_features=None, max_leaf_nodes=None,\n",
       "            min_impurity_split=1e-07, min_samples_leaf=1,\n",
       "            min_samples_split=2, min_weight_fraction_leaf=0.0,\n",
       "            presort=False, random_state=None, splitter='best')"
      ]
     },
     "execution_count": 4,
     "metadata": {},
     "output_type": "execute_result"
    }
   ],
   "source": [
    "tree_clf = DecisionTreeClassifier(max_depth=3)\n",
    "tree_clf.fit(X_train,y_train)"
   ]
  },
  {
   "cell_type": "markdown",
   "metadata": {},
   "source": [
    "## Question 4. Comparer les performances obtenues sur le jeu de test et sur le jeu d'apprentissage.\n",
    "* Rappel: pour réaliser la prédiction, il suffit d'appeler la méthode **predict** du classifier, avec les données de test comme argument.\n",
    "* On pourra simplement représenter les matrices de confusion correspondantes."
   ]
  },
  {
   "cell_type": "code",
   "execution_count": 5,
   "metadata": {},
   "outputs": [
    {
     "name": "stdout",
     "output_type": "stream",
     "text": [
      "*** training data : confusion matrix ***\n",
      "[[40  0  0]\n",
      " [ 0 38  2]\n",
      " [ 0  2 38]]\n",
      "*** test data: confusion matrix ***\n",
      "[[10  0  0]\n",
      " [ 0 10  0]\n",
      " [ 0  1  9]]\n"
     ]
    }
   ],
   "source": [
    "preds_test = tree_clf.predict(X_test)\n",
    "preds_train = tree_clf.predict(X_train)\n",
    "\n",
    "from sklearn.metrics import confusion_matrix\n",
    "\n",
    "print(\"*** training data : confusion matrix ***\")\n",
    "print(confusion_matrix(y_train, preds_train))\n",
    "print(\"*** test data: confusion matrix ***\")\n",
    "print(confusion_matrix(y_test,preds_test))"
   ]
  },
  {
   "cell_type": "markdown",
   "metadata": {},
   "source": [
    "## Question 5. Enfin, utiliser le code ci-dessous pour visualiser l'arbre obtenu.\n",
    "* NB : la sortie graphique proposée par scikit-learn s'appuie sur les outils [GraphViz](http://www.graphviz.org/) qui ne sont pas toujours bien compatibles avec Windows. Ce code devrait néanmoins fonctionner sous Linux ou Mac.\n",
    "* Dans ce code, l'objet *tree_clf* est l'objet abre de décision construit précédemment. "
   ]
  },
  {
   "cell_type": "code",
   "execution_count": 6,
   "metadata": {},
   "outputs": [
    {
     "ename": "ModuleNotFoundError",
     "evalue": "No module named 'graphviz'",
     "output_type": "error",
     "traceback": [
      "\u001b[1;31m---------------------------------------------------------------------------\u001b[0m",
      "\u001b[1;31mModuleNotFoundError\u001b[0m                       Traceback (most recent call last)",
      "\u001b[1;32m<ipython-input-6-fd113526a6a7>\u001b[0m in \u001b[0;36m<module>\u001b[1;34m()\u001b[0m\n\u001b[0;32m      2\u001b[0m \u001b[0mtree_clf\u001b[0m\u001b[1;33m.\u001b[0m\u001b[0mfit\u001b[0m\u001b[1;33m(\u001b[0m\u001b[0mX\u001b[0m\u001b[1;33m,\u001b[0m\u001b[0my\u001b[0m\u001b[1;33m)\u001b[0m\u001b[1;33m\u001b[0m\u001b[0m\n\u001b[0;32m      3\u001b[0m \u001b[1;31m# show tree\u001b[0m\u001b[1;33m\u001b[0m\u001b[1;33m\u001b[0m\u001b[0m\n\u001b[1;32m----> 4\u001b[1;33m \u001b[1;32mimport\u001b[0m \u001b[0mgraphviz\u001b[0m\u001b[1;33m\u001b[0m\u001b[0m\n\u001b[0m\u001b[0;32m      5\u001b[0m \u001b[0mdot_data\u001b[0m \u001b[1;33m=\u001b[0m \u001b[0mtree\u001b[0m\u001b[1;33m.\u001b[0m\u001b[0mexport_graphviz\u001b[0m\u001b[1;33m(\u001b[0m\u001b[0mtree_clf\u001b[0m\u001b[1;33m,\u001b[0m \u001b[0mout_file\u001b[0m\u001b[1;33m=\u001b[0m\u001b[1;32mNone\u001b[0m\u001b[1;33m)\u001b[0m\u001b[1;33m\u001b[0m\u001b[0m\n\u001b[0;32m      6\u001b[0m \u001b[0mgraph\u001b[0m \u001b[1;33m=\u001b[0m \u001b[0mgraphviz\u001b[0m\u001b[1;33m.\u001b[0m\u001b[0mSource\u001b[0m\u001b[1;33m(\u001b[0m\u001b[0mdot_data\u001b[0m\u001b[1;33m)\u001b[0m\u001b[1;33m\u001b[0m\u001b[0m\n",
      "\u001b[1;31mModuleNotFoundError\u001b[0m: No module named 'graphviz'"
     ]
    }
   ],
   "source": [
    "# re-fit on entire dataset \n",
    "tree_clf.fit(X,y)\n",
    "# show tree\n",
    "import graphviz \n",
    "dot_data = tree.export_graphviz(tree_clf, out_file=None) \n",
    "graph = graphviz.Source(dot_data) \n",
    "graph.render(\"iris\")\n"
   ]
  },
  {
   "cell_type": "code",
   "execution_count": null,
   "metadata": {
    "collapsed": true
   },
   "outputs": [],
   "source": []
  }
 ],
 "metadata": {
  "kernelspec": {
   "display_name": "Python 3",
   "language": "python",
   "name": "python3"
  },
  "language_info": {
   "codemirror_mode": {
    "name": "ipython",
    "version": 3
   },
   "file_extension": ".py",
   "mimetype": "text/x-python",
   "name": "python",
   "nbconvert_exporter": "python",
   "pygments_lexer": "ipython3",
   "version": "3.6.1"
  }
 },
 "nbformat": 4,
 "nbformat_minor": 2
}
