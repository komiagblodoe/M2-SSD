{
 "cells": [
  {
   "cell_type": "markdown",
   "metadata": {},
   "source": [
    "<table>\n",
    "<tr>\n",
    "<td width=15%><img src=\"./img/UGA.png\"></img></td>\n",
    "<td><center><h1>Introduction à la Recherche Opérationelle</h1><br/>M1 Statistique Science des Données (SSD)</center></td>\n",
    "<td width=15%>\n",
    "<a href=\"https://www-ljk.imag.fr/membres/Anatoli.Iouditski/\" style=\"font-size: 16px; font-weight: bold\">Anatoli Juditsky</a><br/>\n",
    "<a href=\"http://www.iutzeler.org\" style=\"font-size: 16px; font-weight: bold\">Franck Iutzeler</a><br/>\n",
    "2017/2018 </td>\n",
    "</tr>\n",
    "</table>"
   ]
  },
  {
   "cell_type": "markdown",
   "metadata": {},
   "source": [
    "<br/><br/>\n",
    "<center><a style=\"font-size: 30pt; font-weight: bold\">TP 4 - Logistic Regression </a></center>\n",
    "<br/><br/>"
   ]
  },
  {
   "cell_type": "markdown",
   "metadata": {},
   "source": [
    "# Problème de régression logistique\n",
    "\n",
    "\n",
    "Dans cet TP, nous cherchons à classer des observations en deux classes: $\\mathcal{O} = \\{-1 , +1 \\}$ par régression logistique. La fonction de perte logistique s'écrit\n",
    "\\begin{align*}\n",
    "\\min_{x\\in\\mathbb{R}^d } f(x) := \\frac{1}{m}  \\sum_{i=1}^m  \\log( 1+\\exp(-b_i \\langle a_i,x \\rangle) ) + \\lambda_1 \\|x\\|_1 + \\frac{\\lambda}{2} \\|x\\|_2^2.\n",
    "\\end{align*}\n",
    "où:\n",
    "* $a_i$ est une observation et $b_i$ la classe correspondate\n",
    "* les deux derniers termes s'écrivent sont une régularisation de type *elastic-net*. \n",
    "\n",
    "\n",
    "Sous certaines hypothèses évoquées ici, $x^\\star = \\arg\\min f(x)$ maximise la vraisemblance régularisées des labels sachant les observations.  Ainsi pour une nouvelle observation $a$ de classe $d$ (inconnue), \n",
    "$$ p_1(a) = \\mathbb{P}[d\\in \\text{ class }  +1] = \\frac{1}{1+\\exp(-\\langle a;x^\\star \\rangle)} $$\n",
    "\n",
    "Ainsi, a partir de $a$, si $p_1(a)$ est proche de $1$, il est raisonnable de décider que l'example arrivant appartient à la classe $1$; et l'inverse si $p(a)$ est proche de $0$. Entre les deux, l'appréciation est laissée à l'analyste selon l'application.\n",
    "\n",
    "\n",
    "> Vos objectifs:\n",
    "* Implementer une fonction de minimisation de la perte logistique régularisée en utilisant `CVXR`\n",
    "* Écrire une fonction de prédiction des labels pour un nouveau vecteur à partir de la solution obtenue par la fonction précédente\n",
    "* Motivez un choix pour les paramètres du modèle ($\\lambda_1, \\lambda_2$) et de la prédiction (seuil entre +1 et -1)\n",
    "\n",
    "**Rendu: Par groupe de 1,2, ou 3, un compte rendu d'une page + le code des deux fonctions demandées:**"
   ]
  },
  {
   "cell_type": "markdown",
   "metadata": {},
   "source": [
    "# Données"
   ]
  },
  {
   "cell_type": "markdown",
   "metadata": {},
   "source": [
    "Les données `Student database` contient les notes d'élèves portugais en mathématiques niveau lycée en fonction de facteurs socio-culturels. Le but est de prédire si un étudiant va passer dans la classe supérieure , note **G3** supérieure ou égale à 12 grace à la donnée du reste.\n",
    "\n",
    "La description des variables sont dans `data/student.txt`, la plupart sont catégoriques, vous les pré-traiterez pour les rendre numériques. "
   ]
  },
  {
   "cell_type": "code",
   "execution_count": null,
   "metadata": {},
   "outputs": [],
   "source": [
    "stud=read.table(\"./data/student-mat.csv\",sep=\";\",header=TRUE)"
   ]
  },
  {
   "cell_type": "code",
   "execution_count": null,
   "metadata": {},
   "outputs": [],
   "source": [
    "stud = sapply(stud,as.numeric)"
   ]
  },
  {
   "cell_type": "code",
   "execution_count": null,
   "metadata": {},
   "outputs": [],
   "source": []
  },
  {
   "cell_type": "markdown",
   "metadata": {},
   "source": [
    "#  A vous de jouer"
   ]
  },
  {
   "cell_type": "code",
   "execution_count": null,
   "metadata": {},
   "outputs": [],
   "source": [
    "require(CVXR)"
   ]
  },
  {
   "cell_type": "code",
   "execution_count": null,
   "metadata": {},
   "outputs": [],
   "source": []
  }
 ],
 "metadata": {
  "kernelspec": {
   "display_name": "R",
   "language": "R",
   "name": "ir"
  },
  "language_info": {
   "codemirror_mode": "r",
   "file_extension": ".r",
   "mimetype": "text/x-r-source",
   "name": "R",
   "pygments_lexer": "r",
   "version": "3.4.1"
  },
  "varInspector": {
   "cols": {
    "lenName": 16,
    "lenType": 16,
    "lenVar": 40
   },
   "kernels_config": {
    "python": {
     "delete_cmd_postfix": "",
     "delete_cmd_prefix": "del ",
     "library": "var_list.py",
     "varRefreshCmd": "print(var_dic_list())"
    },
    "r": {
     "delete_cmd_postfix": ") ",
     "delete_cmd_prefix": "rm(",
     "library": "var_list.r",
     "varRefreshCmd": "cat(var_dic_list()) "
    }
   },
   "types_to_exclude": [
    "module",
    "function",
    "builtin_function_or_method",
    "instance",
    "_Feature"
   ],
   "window_display": false
  }
 },
 "nbformat": 4,
 "nbformat_minor": 1
}
