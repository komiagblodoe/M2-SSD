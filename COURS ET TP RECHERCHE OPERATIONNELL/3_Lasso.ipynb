{
 "cells": [
  {
   "cell_type": "markdown",
   "metadata": {},
   "source": [
    "<table>\n",
    "<tr>\n",
    "<td width=15%><img src=\"./img/UGA.png\"></img></td>\n",
    "<td><center><h1>Introduction à la Recherche Opérationelle</h1><br/>M2 Statistique Science des Données (SSD)</center></td>\n",
    "<td width=15%>\n",
    "<a href=\"https://www-ljk.imag.fr/membres/Anatoli.Iouditski/\" style=\"font-size: 16px; font-weight: bold\">Anatoli Juditsky</a><br/>\n",
    "<a href=\"http://www.iutzeler.org\" style=\"font-size: 16px; font-weight: bold\">Franck Iutzeler</a><br/>\n",
    "Version R2019 </td>\n",
    "</tr>\n",
    "</table>"
   ]
  },
  {
   "cell_type": "markdown",
   "metadata": {},
   "source": [
    "<br/><br/>\n",
    "<center><a style=\"font-size: 30pt; font-weight: bold\">TP 3 - LASSO </a></center>\n",
    "<br/><br/>"
   ]
  },
  {
   "cell_type": "markdown",
   "metadata": {},
   "source": [
    "# 1. Problème de régression parcimonieuse et LASSO\n",
    "\n",
    "\n",
    "Comme dans le TP sur le Dantzig Selector, on considère le modèle de régression normale\n",
    "$$ y=X\\theta+\\sigma\\xi,\\;\\;\\xi\\sim \\mathcal{N}(0, I_m),$$\n",
    "où  $X\\in \\mathbb{R}^{m\\times n}$ et $y\\in \\mathbb{R}^m$ sont les observables, et $\\theta\\in \\mathbb{R}^n$ est le paramètre inconnu. L'estimateur de $\\theta$ par le *LASSO* ( least absolute shrinkage and selection operator cf. Tibshirani, Robert (1996). \"Regression Shrinkage and Selection via the lasso\". Journal of the Royal Statistical Society. Series B (methodological). Wiley. 58 (1): 267–88) peut être utilisé pour estimer $\\theta$ dans le cas d'un modèle surparamétré, quand la dimension $n$ de $\\theta$ est supérieure a la dimension de l'observation $y$. Dans ce cas l'estimateur ${\\theta}_{L}$  s'écrit comme une solution du probleme d'optimisation\n",
    "\n",
    "\n",
    "$$  \\frac{1}{2} \\| X\\theta - y \\|_2^2 + \\lambda \\|\\theta\\|_1 ,$$\n",
    "où $\\lambda>0$ est le *paramètre de régularisation* qui controle le degré de parcimonie de la solution.\n",
    "\n",
    "\n",
    "Votre objectif dans cet exercice sera d'implementer l'estimateur ${\\theta}_{L}$ en utilisant `CVXR` et d'examiner comment la parcimonie des solutions évolue avec $\\lambda$."
   ]
  },
  {
   "cell_type": "markdown",
   "metadata": {},
   "source": [
    "> **Question:** Vérifier que le problème et les contraintes peuvent se formuler via des [fonctions disponibles](https://cvxr.rbind.io/post/cvxr_functions/) pour CVXR."
   ]
  },
  {
   "cell_type": "markdown",
   "metadata": {},
   "source": [
    "# 2. Un exemple"
   ]
  },
  {
   "cell_type": "code",
   "execution_count": null,
   "metadata": {},
   "outputs": [],
   "source": [
    "require(CVXR)"
   ]
  },
  {
   "cell_type": "code",
   "execution_count": null,
   "metadata": {},
   "outputs": [],
   "source": [
    "# Exemple jouet\n",
    "n = 5\n",
    "m = 3\n",
    "sigma = 0.5\n",
    "\n",
    "X = replicate(n, rnorm(m))\n",
    "theta_true = c(1,0,0,0,5)\n",
    "xi = rnorm(m)\n",
    "y = X%*%theta_true + sigma*xi\n",
    "\n"
   ]
  },
  {
   "cell_type": "code",
   "execution_count": null,
   "metadata": {},
   "outputs": [],
   "source": [
    "X\n",
    "theta_true\n",
    "y"
   ]
  },
  {
   "cell_type": "markdown",
   "metadata": {},
   "source": [
    "> **Question:** Trouver l'estimateur $\\theta_{L}$ à partir de $X$ et $y$ par résolution du problème d'optimisation via CVXR avec $\\lambda$ fixé à 0.1."
   ]
  },
  {
   "cell_type": "code",
   "execution_count": null,
   "metadata": {},
   "outputs": [],
   "source": []
  },
  {
   "cell_type": "markdown",
   "metadata": {},
   "source": [
    "> **Question:** Examiner la valeur de la solution pour $\\lambda = 0$ puis $1$ puis $10$. Que remarquez vous sur la solution (coefficients proches de zéro, distance à la vraie solution)? "
   ]
  },
  {
   "cell_type": "markdown",
   "metadata": {},
   "source": [
    "# 3. Fonction \"Lasso\"\n",
    "\n",
    "\n",
    "\n",
    "> **Question:** Écrivez une fonction `MyLasso` qui fait appel a `CVXR` pour calculer l'estimation ${\\theta}_{L}$. \n",
    "\n",
    "Cette fonction doit sortir la liste avec les elements\n",
    "* `coef`, vecteur des coefficients de regression\n",
    "* `resid`, vecteur $y-X{\\theta}_{L}$ de résidus\n",
    "* `status`, le champ `status` de la solution de `CVXR`.\n",
    "\n",
    "L'appel à cette fonction devra être:\n",
    "\n",
    "`MyLasso <- function(X, y, lambda = 0.1)`\n",
    "\n",
    "où\n",
    "* `X` et `y` sont les observables\n",
    "* `lambda` est la valeur du paramètre de régularisation."
   ]
  },
  {
   "cell_type": "code",
   "execution_count": null,
   "metadata": {},
   "outputs": [],
   "source": []
  },
  {
   "cell_type": "markdown",
   "metadata": {},
   "source": [
    "### a.  Test quand on connait le *vrai* theta"
   ]
  },
  {
   "cell_type": "markdown",
   "metadata": {},
   "source": [
    "> **Question:** Testez votre fonction sur l' exemple ci-dessous"
   ]
  },
  {
   "cell_type": "code",
   "execution_count": null,
   "metadata": {},
   "outputs": [],
   "source": [
    "m = 30\n",
    "n = 20\n",
    "X = replicate(n, rnorm(m))\n",
    "theta_true = c( rep(0,floor(n/5)) , rep(0.5,floor(n/5)) , rep(1.0,floor(n/5)), rep(4,floor(n/5)), rep(20,floor(n/5)) )\n",
    "sigma = 0.1\n",
    "y = X%*%theta_true + sigma*rnorm(m)"
   ]
  },
  {
   "cell_type": "code",
   "execution_count": null,
   "metadata": {},
   "outputs": [],
   "source": [
    "f = MyLasso(X, y)\n",
    "str(f)"
   ]
  },
  {
   "cell_type": "code",
   "execution_count": null,
   "metadata": {},
   "outputs": [],
   "source": [
    "comp = cbind(as.matrix(f$coef), as.matrix(theta_true))\n",
    "comp"
   ]
  },
  {
   "cell_type": "markdown",
   "metadata": {
    "collapsed": true
   },
   "source": [
    "### b. Variation du paramètre $\\lambda$\n",
    "\n",
    "Quand $\\lambda=0$, peu de coefficients sont nul (ou presque, disons $<10^{-9}$); quand $\\lambda \\to \\infty$, tous les coefficients deviennent nuls. Les solutions des valeurs intermédiaires forment le *chemin de régularisation*."
   ]
  },
  {
   "cell_type": "markdown",
   "metadata": {},
   "source": [
    "> **Question:** Examinez les solutions du problème précédent pour $\\lambda = 10^{-5}, 10^{-4}, ..,10^2$. Regardez notamment quelles valeurs sont nulles et comparer avec la vraie solution."
   ]
  },
  {
   "cell_type": "code",
   "execution_count": null,
   "metadata": {},
   "outputs": [],
   "source": []
  },
  {
   "cell_type": "markdown",
   "metadata": {},
   "source": [
    "# 4.  Le Lasso en apprentissage\n",
    "\n",
    "\n",
    "Il s'agit dans cette partie de prédire les facteurs socio-économiques à partir d'une base de données issue des données du FBI de 1995 pour 1994 quartiers américains.\n",
    "\n",
    "\n",
    "* Les 5 premières colonnes ne sont pas prédictives:\n",
    "        state: US state (by number) - not predictive\n",
    "        county: numeric code for county - not predictive, and many missing values (numeric)\n",
    "        community: numeric code for community - not predictive and many missing values (numeric)\n",
    "        communityname: community name - not predictive - for information only (string)\n",
    "        fold: fold number for non-random 10 fold \n",
    "        \n",
    "* Les 122 suivantes sont prédictives et numériques\n",
    "        données socio-économiques (voir 'data/communities.name')\n",
    "\n",
    "* La dernière colonne contient la valeur à prédire\n",
    "        ViolentCrimesPerPop: total number of violent crimes per 100K popuation (numeric - decimal) GOAL attribute (to be predicted)\n",
    "\n",
    "* Il y a des données manquantes\n",
    "        Symbolisées par ? , vous pouvez les remplacer par 0\n",
    "        vous devez faire attention que votre matrice finale est bien numérique (mode(X) = \"numeric\") pour y remédier) \n",
    "\n",
    "\n",
    "> **Question:** \n",
    "> * Lisez le dataset, découpez le en base d'apprentissage et de test. \n",
    "> * Faites varier le paramètre de régularisation pour sélectionner les valeurs les plus importantes et les moins importantes selon le crière de mise à zéro par lasso par validation sur la base de test.\n",
    "> * Déterminez une valeur pertinente du paramètre de régularisation par validation de l'error moyenne absolue sur la base de test"
   ]
  },
  {
   "cell_type": "code",
   "execution_count": null,
   "metadata": {},
   "outputs": [],
   "source": [
    "crime_data = read.csv('./data/communities.data',sep=',', header=FALSE)\n",
    "m = dim(crime_data)[1]"
   ]
  },
  {
   "cell_type": "code",
   "execution_count": null,
   "metadata": {},
   "outputs": [],
   "source": []
  }
 ],
 "metadata": {
  "kernelspec": {
   "display_name": "R",
   "language": "R",
   "name": "ir"
  },
  "language_info": {
   "codemirror_mode": "r",
   "file_extension": ".r",
   "mimetype": "text/x-r-source",
   "name": "R",
   "pygments_lexer": "r",
   "version": "3.4.1"
  },
  "varInspector": {
   "cols": {
    "lenName": 16,
    "lenType": 16,
    "lenVar": 40
   },
   "kernels_config": {
    "python": {
     "delete_cmd_postfix": "",
     "delete_cmd_prefix": "del ",
     "library": "var_list.py",
     "varRefreshCmd": "print(var_dic_list())"
    },
    "r": {
     "delete_cmd_postfix": ") ",
     "delete_cmd_prefix": "rm(",
     "library": "var_list.r",
     "varRefreshCmd": "cat(var_dic_list()) "
    }
   },
   "types_to_exclude": [
    "module",
    "function",
    "builtin_function_or_method",
    "instance",
    "_Feature"
   ],
   "window_display": false
  }
 },
 "nbformat": 4,
 "nbformat_minor": 1
}
