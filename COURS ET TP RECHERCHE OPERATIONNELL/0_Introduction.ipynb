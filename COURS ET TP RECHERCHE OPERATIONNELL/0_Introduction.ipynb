{
 "cells": [
  {
   "cell_type": "markdown",
   "metadata": {},
   "source": [
    "<table>\n",
    "<tr>\n",
    "<td width=15%><img src=\"./img/UGA.png\"></img></td>\n",
    "<td><center><h1>Introduction à la Recherche Opérationelle</h1><br/>M2 Statistique Science des Données (SSD)</center></td>\n",
    "<td width=15%>\n",
    "<a href=\"https://www-ljk.imag.fr/membres/Anatoli.Iouditski/\" style=\"font-size: 16px; font-weight: bold\">Anatoli Juditsky</a><br/>\n",
    "<a href=\"http://www.iutzeler.org\" style=\"font-size: 16px; font-weight: bold\">Franck Iutzeler</a><br/>\n",
    "Version Py2019 </td>\n",
    "</tr>\n",
    "</table>"
   ]
  },
  {
   "cell_type": "markdown",
   "metadata": {},
   "source": [
    "<br/><br/>\n",
    "<center><a style=\"font-size: 30pt; font-weight: bold\">TP 0 - Introduction à CVXPY </a></center>\n",
    "<br/><br/>"
   ]
  },
  {
   "cell_type": "markdown",
   "metadata": {},
   "source": [
    "**CVXPY** est un package Python permettant la résolution de problèmes d'optimisation une fois ceux-ci formulés correctement. Il s'installe par ``pip``\n",
    "    \n",
    "        pip install [--user] cvxpy\n",
    "\n",
    "Le site de CVXPY [https://www.cvxpy.org/](https://www.cvxpy.org/) fournit de nombreuses ressources, notamment des exemples et l'API."
   ]
  },
  {
   "cell_type": "code",
   "execution_count": 1,
   "metadata": {},
   "outputs": [],
   "source": [
    "import cvxpy as cp\n",
    "import numpy as np"
   ]
  },
  {
   "cell_type": "markdown",
   "metadata": {},
   "source": [
    "## 1. Un premier exemple\n",
    "\n",
    "\n",
    "Considérons le problème de régression linéaire\n",
    "$$ Y=X\\beta^\\star+\\epsilon$$\n",
    "où $Y$ est un vecteur de taille 20, $X$ est une matrice de taille 20x10 et $\\beta^\\star =[-4,..,-1,0,1,..,5]$ est un vecteur de taille 10; finalement, epsilon est un vecteur aléatoire Gaussien de taille 20 et de variance 0.01."
   ]
  },
  {
   "cell_type": "code",
   "execution_count": 2,
   "metadata": {},
   "outputs": [],
   "source": [
    "n = 20\n",
    "p = 10\n",
    "beta_star = np.array(range(-4,6))   # beta is just -4 through 5.\n",
    "\n",
    "X = np.random.randn(n,p)\n",
    "Y = np.dot(X,beta_star) + 0.1*np.random.randn(n)"
   ]
  },
  {
   "cell_type": "markdown",
   "metadata": {},
   "source": [
    "L'estimateur du maximum de vraisemblance de $\\hat{\\beta}$ sachant $Y$ et $X$ est le vecteur minimisant en $\\beta$ la *fonction objective*\n",
    "$$ L(\\beta) = \\| X \\beta - Y \\|_2^2 $$"
   ]
  },
  {
   "cell_type": "markdown",
   "metadata": {},
   "source": [
    "### Resolution avec CVXPY"
   ]
  },
  {
   "cell_type": "markdown",
   "metadata": {},
   "source": [
    "* Étape 1. Définir la variable selon laquelle minimiser    "
   ]
  },
  {
   "cell_type": "code",
   "execution_count": 3,
   "metadata": {},
   "outputs": [],
   "source": [
    "beta = cp.Variable(p) # p est la taille de la variable, définie ci-dessus"
   ]
  },
  {
   "cell_type": "markdown",
   "metadata": {},
   "source": [
    "* Étape 2. Définir la fonction objectif"
   ]
  },
  {
   "cell_type": "code",
   "execution_count": 4,
   "metadata": {},
   "outputs": [],
   "source": [
    "L = cp.sum_squares(X*beta - Y) # cost est la fonction ci-dessus \n",
    "\n",
    "objective = cp.Minimize(L)"
   ]
  },
  {
   "cell_type": "markdown",
   "metadata": {},
   "source": [
    "Ici, la variable `L` est bien une fonction pour CVXPY comme son expression fait intervenir un objet `beta` qui est une **variable CVXPY**.\n",
    "\n",
    "L'objectif est ainsi bien de minimiser L (sous entendu par rapport à la variable  `beta` )."
   ]
  },
  {
   "cell_type": "markdown",
   "metadata": {},
   "source": [
    "* Étape 3. Créer le problème à résoudre"
   ]
  },
  {
   "cell_type": "code",
   "execution_count": 5,
   "metadata": {},
   "outputs": [],
   "source": [
    "prob = cp.Problem(objective)"
   ]
  },
  {
   "cell_type": "markdown",
   "metadata": {},
   "source": [
    "* Étape 4. Le résoudre!"
   ]
  },
  {
   "cell_type": "code",
   "execution_count": 6,
   "metadata": {},
   "outputs": [
    {
     "data": {
      "text/plain": [
       "0.10370392166611218"
      ]
     },
     "execution_count": 6,
     "metadata": {},
     "output_type": "execute_result"
    }
   ],
   "source": [
    "prob.solve()"
   ]
  },
  {
   "cell_type": "markdown",
   "metadata": {},
   "source": [
    "* Étape 5. Analyser le résultat\n",
    "\n",
    "Après résolution, la variable ``prob`` du solver possède (entre autres) les attributs suivants:\n",
    "\n",
    "status : est-ce que la solution trouvée est optimale\n",
    "\n",
    "value : valeur optimale de L \n",
    "\n",
    "solver_stats.solve_time : le temps mis à trouver une solution\n",
    "\n",
    "la variable ``beta`` contient notamment la valeur optimal\n",
    "\n",
    "value : valeur optimale (de la variable précisée)"
   ]
  },
  {
   "cell_type": "code",
   "execution_count": 7,
   "metadata": {},
   "outputs": [
    {
     "data": {
      "text/plain": [
       "'optimal'"
      ]
     },
     "execution_count": 7,
     "metadata": {},
     "output_type": "execute_result"
    }
   ],
   "source": [
    "prob.status"
   ]
  },
  {
   "cell_type": "code",
   "execution_count": 8,
   "metadata": {},
   "outputs": [
    {
     "data": {
      "text/plain": [
       "0.10370392166611218"
      ]
     },
     "execution_count": 8,
     "metadata": {},
     "output_type": "execute_result"
    }
   ],
   "source": [
    "prob.value"
   ]
  },
  {
   "cell_type": "code",
   "execution_count": 9,
   "metadata": {},
   "outputs": [
    {
     "data": {
      "text/plain": [
       "0.000326303"
      ]
     },
     "execution_count": 9,
     "metadata": {},
     "output_type": "execute_result"
    }
   ],
   "source": [
    "prob.solver_stats.solve_time"
   ]
  },
  {
   "cell_type": "code",
   "execution_count": 10,
   "metadata": {},
   "outputs": [
    {
     "name": "stdout",
     "output_type": "stream",
     "text": [
      "\n",
      "The optimal value is 0.10370392166611218\n",
      "The optimal beta is\n",
      "[-4.01135908 -2.99415813 -2.02166575 -0.95690415 -0.03439186  0.99785978\n",
      "  1.96812678  3.00440345  3.9468306   4.97922063]\n",
      "The norm of the residual is  0.3220309327783794\n"
     ]
    }
   ],
   "source": [
    "print(\"\\nThe optimal value is\", prob.value)\n",
    "print(\"The optimal beta is\")\n",
    "print(beta.value)\n",
    "print(\"The norm of the residual is \", cp.norm(X*beta - Y, p=2).value)"
   ]
  },
  {
   "cell_type": "markdown",
   "metadata": {},
   "source": [
    "### Conclusion"
   ]
  },
  {
   "cell_type": "markdown",
   "metadata": {},
   "source": [
    "On a donc résolu le problème de régression linéaire assez facilement, comme on aurait pu le faire avec le package lm. Cependant, comme nous alons le voir maintenant, CVXPY permet aisément de modifier le problème, en ajoutant par exemple des contraintes."
   ]
  },
  {
   "cell_type": "markdown",
   "metadata": {},
   "source": [
    "### 2. Un problème avec contraintes\n",
    "\n",
    "Supposons que nous voulons maintenant résoudre le même problème de minimiser\n",
    "$$ L(\\beta) = \\| X \\beta - Y \\|_2^2 $$\n",
    "mais avec la contrainte supplémentaire que les composantes de $\\beta$ doivent être positives et que leur somme doit être égale à 10.\n",
    "\n",
    "\n",
    "Suivons les même étapes que précedemment."
   ]
  },
  {
   "cell_type": "markdown",
   "metadata": {},
   "source": [
    "* Étape 1. Définir la variable selon laquelle minimiser    "
   ]
  },
  {
   "cell_type": "code",
   "execution_count": 11,
   "metadata": {},
   "outputs": [],
   "source": [
    "beta = cp.Variable(p)  # p est la taille de la variable, définie ci-dessus"
   ]
  },
  {
   "cell_type": "markdown",
   "metadata": {},
   "source": [
    "* Étape 2. Définir la fonction objectif **et les contraintes**"
   ]
  },
  {
   "cell_type": "code",
   "execution_count": 12,
   "metadata": {},
   "outputs": [],
   "source": [
    "L = cp.sum_squares(X*beta - Y) # cost est la fonction ci-dessus \n",
    "\n",
    "objective = cp.Minimize(L)"
   ]
  },
  {
   "cell_type": "code",
   "execution_count": 13,
   "metadata": {},
   "outputs": [],
   "source": [
    "contrainte1 = beta>= np.zeros(p)"
   ]
  },
  {
   "cell_type": "code",
   "execution_count": 14,
   "metadata": {},
   "outputs": [],
   "source": [
    "ones = np.ones((1,p))\n",
    "contrainte2 = ones*beta == 1"
   ]
  },
  {
   "cell_type": "markdown",
   "metadata": {},
   "source": [
    "* Étape 3. Créer le problème à résoudre **avec les contraintes**"
   ]
  },
  {
   "cell_type": "code",
   "execution_count": 23,
   "metadata": {},
   "outputs": [],
   "source": [
    "prob = cp.Problem(objective,constraints=[contrainte1,contrainte2])"
   ]
  },
  {
   "cell_type": "markdown",
   "metadata": {},
   "source": [
    "* Étape 4. Le résoudre!"
   ]
  },
  {
   "cell_type": "code",
   "execution_count": 16,
   "metadata": {},
   "outputs": [
    {
     "data": {
      "text/plain": [
       "874.6956008866483"
      ]
     },
     "execution_count": 16,
     "metadata": {},
     "output_type": "execute_result"
    }
   ],
   "source": [
    "prob.solve()"
   ]
  },
  {
   "cell_type": "markdown",
   "metadata": {},
   "source": [
    "* Étape 5. Analyser le résultat"
   ]
  },
  {
   "cell_type": "code",
   "execution_count": 17,
   "metadata": {},
   "outputs": [
    {
     "data": {
      "text/plain": [
       "'optimal'"
      ]
     },
     "execution_count": 17,
     "metadata": {},
     "output_type": "execute_result"
    }
   ],
   "source": [
    "prob.status"
   ]
  },
  {
   "cell_type": "code",
   "execution_count": 18,
   "metadata": {},
   "outputs": [
    {
     "data": {
      "text/plain": [
       "array([-2.06162116e-15, -1.64618429e-15, -9.51012819e-16, -1.60920304e-15,\n",
       "       -1.20738874e-15, -1.40756977e-15, -1.34693570e-15, -1.34313678e-15,\n",
       "       -1.25909279e-15,  1.00000000e+00])"
      ]
     },
     "execution_count": 18,
     "metadata": {},
     "output_type": "execute_result"
    }
   ],
   "source": [
    "betaHat2 = beta.value\n",
    "betaHat2"
   ]
  },
  {
   "cell_type": "code",
   "execution_count": 19,
   "metadata": {},
   "outputs": [
    {
     "data": {
      "text/plain": [
       "1.0000000000000018"
      ]
     },
     "execution_count": 19,
     "metadata": {},
     "output_type": "execute_result"
    }
   ],
   "source": [
    "np.sum(betaHat2)"
   ]
  },
  {
   "cell_type": "markdown",
   "metadata": {},
   "source": [
    "Le vecteur obtenu vérifie bien les contraintes ajoutées.\n",
    "\n",
    "*(il est également possible de récupérer les variables duales associées aux contraintes)*"
   ]
  },
  {
   "cell_type": "code",
   "execution_count": 20,
   "metadata": {},
   "outputs": [
    {
     "data": {
      "text/plain": [
       "array([246.04950955, 238.62525452, 135.04977932, 174.3783018 ,\n",
       "       164.51231503, 180.67554211, 142.75247838,  59.04302607,\n",
       "        82.42694851,   0.        ])"
      ]
     },
     "execution_count": 20,
     "metadata": {},
     "output_type": "execute_result"
    }
   ],
   "source": [
    "lambda1 = prob.constraints[0].dual_value\n",
    "lambda1"
   ]
  },
  {
   "cell_type": "code",
   "execution_count": 21,
   "metadata": {},
   "outputs": [
    {
     "name": "stdout",
     "output_type": "stream",
     "text": [
      "value \t dual of constraint 1\n",
      "-0.0000  \t 246.05\n",
      "-0.0000  \t 238.63\n",
      "-0.0000  \t 135.05\n",
      "-0.0000  \t 174.38\n",
      "-0.0000  \t 164.51\n",
      "-0.0000  \t 180.68\n",
      "-0.0000  \t 142.75\n",
      "-0.0000  \t 59.04\n",
      "-0.0000  \t 82.43\n",
      "1.0000  \t 0.00\n"
     ]
    }
   ],
   "source": [
    "print(\"value \\t dual of constraint 1\")\n",
    "for i in range(p):\n",
    "    print(\"{:2.4f}  \\t {:4.2f}\".format(betaHat2[i],lambda1[i]))"
   ]
  },
  {
   "cell_type": "code",
   "execution_count": 22,
   "metadata": {},
   "outputs": [
    {
     "data": {
      "text/plain": [
       "array([145.98401485])"
      ]
     },
     "execution_count": 22,
     "metadata": {},
     "output_type": "execute_result"
    }
   ],
   "source": [
    "prob.constraints[1].dual_value"
   ]
  }
 ],
 "metadata": {
  "kernelspec": {
   "display_name": "Python 3",
   "language": "python",
   "name": "python3"
  },
  "language_info": {
   "codemirror_mode": {
    "name": "ipython",
    "version": 3
   },
   "file_extension": ".py",
   "mimetype": "text/x-python",
   "name": "python",
   "nbconvert_exporter": "python",
   "pygments_lexer": "ipython3",
   "version": "3.7.3"
  },
  "varInspector": {
   "cols": {
    "lenName": 16,
    "lenType": 16,
    "lenVar": 40
   },
   "kernels_config": {
    "python": {
     "delete_cmd_postfix": "",
     "delete_cmd_prefix": "del ",
     "library": "var_list.py",
     "varRefreshCmd": "print(var_dic_list())"
    },
    "r": {
     "delete_cmd_postfix": ") ",
     "delete_cmd_prefix": "rm(",
     "library": "var_list.r",
     "varRefreshCmd": "cat(var_dic_list()) "
    }
   },
   "types_to_exclude": [
    "module",
    "function",
    "builtin_function_or_method",
    "instance",
    "_Feature"
   ],
   "window_display": false
  }
 },
 "nbformat": 4,
 "nbformat_minor": 1
}
