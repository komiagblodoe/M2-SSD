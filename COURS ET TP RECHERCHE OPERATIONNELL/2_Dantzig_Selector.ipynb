{
 "cells": [
  {
   "cell_type": "markdown",
   "metadata": {},
   "source": [
    "<table>\n",
    "<tr>\n",
    "<td width=15%><img src=\"./img/UGA.png\"></img></td>\n",
    "<td><center><h1>Introduction à la Recherche Opérationelle</h1><br/>M2 Statistique Science des Données (SSD)</center></td>\n",
    "<td width=15%>\n",
    "<a href=\"https://www-ljk.imag.fr/membres/Anatoli.Iouditski/\" style=\"font-size: 16px; font-weight: bold\">Anatoli Juditsky</a><br/>\n",
    "<a href=\"http://www.iutzeler.org\" style=\"font-size: 16px; font-weight: bold\">Franck Iutzeler</a><br/>\n",
    "Version Py2019 </td>\n",
    "</tr>\n",
    "</table>"
   ]
  },
  {
   "cell_type": "markdown",
   "metadata": {},
   "source": [
    "<br/><br/>\n",
    "<center><a style=\"font-size: 30pt; font-weight: bold\">TP 2 - Dantzig Selector </a></center>\n",
    "<br/><br/>"
   ]
  },
  {
   "cell_type": "markdown",
   "metadata": {},
   "source": [
    "# 1. Problème de régression parcimonieuse et Dantzig Selector\n",
    "\n",
    "On considère le modèle de régression normale\n",
    "$$ y=X\\theta+\\sigma\\xi,\\;\\;\\xi\\sim \\mathcal{N}(0, I_m),$$\n",
    "où  $X\\in \\mathbb{R}^{m\\times n}$ et $y\\in \\mathbb{R}^m$ sont les observables, et $\\theta\\in \\mathbb{R}^n$ est le paramètre inconnu. L'estimateur de $\\theta$ de *``Dantzig Selector''* (cf. Candes, E., Tao, T. (2007). *The Dantzig selector: Statistical estimation when $p$ is much larger than $n$*. The Annals of Statistics, 2313-2351) peut être utilisé pour estimer $\\theta$ dans le cas d'un modèle surparamétré, quand la dimension $n$ de $\\theta$ est supérieure a la dimension de l'observation $y$. Dans ce cas l'estimateur ${\\theta}_{DS}$  s'écrit comme une solution du probleme d'optimisation\n",
    "\n",
    "\n",
    "$${\\theta}_{DS}\\in \\arg\\min_{\\theta\\in  \\mathbb{R}^n} \\left\\{\\|\\theta\\|_1,\\;\\mbox{sous contrainte}\\;\\|X^T(X\\theta-y)\\|_\\infty\\leq \\kappa\\sigma\\right\\},$$\n",
    "où $\\kappa>0$ est un *hyper-paramètre*. La valeur de $\\kappa$, préconisée dans la literature, est $c q_{\\mathcal{N}}\\left(1-{\\alpha\\over 2m}\\right)$, où $\\alpha\\in (0,1)$ est le niveau de risque choisi (e.g., $\\alpha=.05$, etc) et $q_\\mathcal{N}(p)$ est la $p$-quantile de la normale standardisée, et $c=\\max_j\\|[X]_j\\|_2=\\max_j\\sqrt{[X]_j^T[X]_j}$ est la norme maximale de colonne de la matrice $X$.\n",
    "\n",
    "Votre objectif dans cet exercice sera d'implementer l'estimateur ${\\theta}_{DS}$ en utilisant `CVXPY`."
   ]
  },
  {
   "cell_type": "markdown",
   "metadata": {},
   "source": [
    "> **Question:** Vérifier que le problème et les contraintes peuvent se formuler via des [fonctions disponibles](hhttps://www.cvxpy.org/examples/index.html) pour CVXPY."
   ]
  },
  {
   "cell_type": "markdown",
   "metadata": {},
   "source": [
    "# 2. Un exemple"
   ]
  },
  {
   "cell_type": "code",
   "execution_count": 1,
   "metadata": {},
   "outputs": [],
   "source": [
    "import cvxpy as cp\n",
    "import numpy as np\n",
    "import pandas as pd"
   ]
  },
  {
   "cell_type": "code",
   "execution_count": 2,
   "metadata": {},
   "outputs": [],
   "source": [
    "# Exemple jouet\n",
    "n = 5\n",
    "m = 3\n",
    "sigma = 0.1\n",
    "\n",
    "X = np.random.randn(m,n)\n",
    "theta_true = np.array([1,0,0,0,5])\n",
    "xi = np.random.randn(m)\n",
    "y = np.dot(X,theta_true) + sigma*xi\n",
    "\n"
   ]
  },
  {
   "cell_type": "code",
   "execution_count": 3,
   "metadata": {},
   "outputs": [
    {
     "data": {
      "text/plain": [
       "array([[ 0.6809556 ,  1.39993158, -1.07573885, -0.21487585,  1.47556202],\n",
       "       [-0.51569691,  0.07519816, -0.2520318 ,  0.68520616, -0.32832952],\n",
       "       [ 0.80268822, -1.38307929, -0.91975332,  0.0038322 ,  1.66714571]])"
      ]
     },
     "execution_count": 3,
     "metadata": {},
     "output_type": "execute_result"
    }
   ],
   "source": [
    "X"
   ]
  },
  {
   "cell_type": "code",
   "execution_count": null,
   "metadata": {},
   "outputs": [],
   "source": [
    "y"
   ]
  },
  {
   "cell_type": "code",
   "execution_count": null,
   "metadata": {},
   "outputs": [],
   "source": [
    "theta_true"
   ]
  },
  {
   "cell_type": "markdown",
   "metadata": {},
   "source": [
    "> **Question:** Trouver l'estimateur $\\theta_{DS}$ à partir de $X$ et $y$ par résolution du problème d'optimisation via CVXPY avec $\\kappa$ fixé à 0.2 et utiliser le solver ``ECOS``."
   ]
  },
  {
   "cell_type": "code",
   "execution_count": 4,
   "metadata": {},
   "outputs": [
    {
     "name": "stdout",
     "output_type": "stream",
     "text": [
      "\n",
      "ECOS 2.0.7 - (C) embotech GmbH, Zurich Switzerland, 2012-15. Web: www.embotech.com/ECOS\n",
      "\n",
      "It     pcost       dcost      gap   pres   dres    k/t    mu     step   sigma     IR    |   BT\n",
      " 0  +0.000e+00  -2.000e-02  +1e+02  4e-01  9e-01  1e+00  5e+00    ---    ---    1  1  - |  -  - \n",
      " 1  +4.674e+00  +5.235e+00  +4e+01  1e-01  2e-01  8e-01  2e+00  0.7542  1e-01   0  0  0 |  0  0\n",
      " 2  +4.742e+00  +4.863e+00  +7e+00  1e-02  3e-02  2e-01  3e-01  0.8821  8e-02   0  0  0 |  0  0\n",
      " 3  +5.176e+00  +5.210e+00  +2e+00  4e-03  9e-03  5e-02  9e-02  0.7527  4e-02   0  0  0 |  0  0\n",
      " 4  +5.265e+00  +5.271e+00  +5e-01  1e-03  2e-03  9e-03  3e-02  0.7475  3e-02   0  0  0 |  0  0\n",
      " 5  +5.287e+00  +5.287e+00  +4e-02  5e-05  1e-04  2e-04  2e-03  0.9393  2e-02   1  0  0 |  0  0\n",
      " 6  +5.290e+00  +5.290e+00  +2e-03  2e-06  7e-06  1e-05  1e-04  0.9608  1e-02   1  0  0 |  0  0\n",
      " 7  +5.290e+00  +5.290e+00  +2e-05  3e-08  7e-08  1e-07  1e-06  0.9890  1e-04   1  0  0 |  0  0\n",
      " 8  +5.290e+00  +5.290e+00  +3e-07  3e-10  8e-10  1e-09  1e-08  0.9890  1e-04   1  0  0 |  0  0\n",
      " 9  +5.290e+00  +5.290e+00  +3e-09  3e-12  9e-12  1e-11  1e-10  0.9890  1e-04   1  0  0 |  0  0\n",
      "\n",
      "OPTIMAL (within feastol=9.2e-12, reltol=5.5e-10, abstol=2.9e-09).\n",
      "Runtime: 0.018494 seconds.\n",
      "\n"
     ]
    },
    {
     "data": {
      "text/plain": [
       "array([ 9.81579047e-12,  2.95210504e-11, -1.17121332e-01,  6.02675988e-01,\n",
       "        4.57049277e+00])"
      ]
     },
     "execution_count": 4,
     "metadata": {},
     "output_type": "execute_result"
    }
   ],
   "source": [
    "kappa = 0.2\n",
    "theta = cp.Variable(n)\n",
    "mini = cp.Minimize(cp.norm(theta,1))\n",
    "\n",
    "contrainte1 = cp.norm(X.T*(X*theta-y),'inf')<= kappa*sigma\n",
    "prob1 = cp.Problem(mini, constraints = [contrainte1])\n",
    "prob1.solve(verbose=True, solver=\"ECOS\")\n",
    "prob1.status\n",
    "theta.value"
   ]
  },
  {
   "cell_type": "markdown",
   "metadata": {},
   "source": [
    "# 3. Fonction \"Dantzig Selector\"\n",
    "\n",
    "\n",
    "\n",
    "> **Question:** Écrivez une fonction `DSelect` qui fait appel a `CVXPY` pour calculer l'estimation ${\\theta}_{DS}$. \n",
    "\n",
    "Cette fonction doit sortir un tuple avec les elements\n",
    "* `coef`, vecteur des coefficients de regression\n",
    "* `resid`, vecteur $y-X{\\theta}_{DS}$ de résidus\n",
    "* `status`, le statut de sortie du solver\n",
    "\n",
    "L'appel à cette fonction devra être:\n",
    "\n",
    "`DSelect(X, y, sigma = 1, c = 1, verb = False)`\n",
    "\n",
    "où\n",
    "* `X` et `y` sont les observables\n",
    "* `sigma` est une estimation de $\\sigma$\n",
    "* `c` est le paramètre réel tel que la valeur de $\\kappa$ dans {DS} est $ \\kappa=c\\,q_{\\mathcal{N}}\\left(1-{\\alpha\\over 2m}\\right).$"
   ]
  },
  {
   "cell_type": "code",
   "execution_count": 10,
   "metadata": {},
   "outputs": [],
   "source": [
    "import scipy.stats\n",
    "\n",
    "def DSelect(X, y, sigma = 1, c = 1, verb = False):\n",
    "    \n",
    "\n",
    "    m,n = X.shape\n",
    "     \n",
    "    alpha = 0.05\n",
    "    kappa = c*scipy.stats.norm.ppf(1-alpha/m)\n",
    "    \n",
    "    theta = cp.Variable(n)\n",
    "    mini = cp.Minimize(cp.norm(theta,1))\n",
    "\n",
    "    contrainte = cp.norm(X.T*(X*theta-y),'inf')<= kappa*sigma\n",
    "    prob = cp.Problem(mini, constraints = [contrainte])\n",
    "    prob.solve(verbose=True, solver=\"ECOS\")\n",
    "    \n",
    "    theta_ds=theta.value\n",
    "    sol_status=prob.status\n",
    "    residual=y-X.dot(theta_ds)\n",
    "\n",
    "    #### TODO\n",
    "    \n",
    "    return theta_ds,residual,sol_status"
   ]
  },
  {
   "cell_type": "markdown",
   "metadata": {},
   "source": [
    "> **Question:** Testez votre fonction sur les deux exemples ci-dessous"
   ]
  },
  {
   "cell_type": "markdown",
   "metadata": {},
   "source": [
    "### a.  Test quand on connait le *vrai* theta"
   ]
  },
  {
   "cell_type": "code",
   "execution_count": 8,
   "metadata": {},
   "outputs": [],
   "source": [
    "n = 5\n",
    "m = 5\n",
    "X = np.random.randn(m,n)\n",
    "theta_true = np.random.randn(n)\n",
    "sigma = 0.005\n",
    "\n",
    "y = np.dot(X,theta_true) + sigma*np.random.randn(m)"
   ]
  },
  {
   "cell_type": "code",
   "execution_count": 11,
   "metadata": {},
   "outputs": [
    {
     "name": "stdout",
     "output_type": "stream",
     "text": [
      "\n",
      "ECOS 2.0.7 - (C) embotech GmbH, Zurich Switzerland, 2012-15. Web: www.embotech.com/ECOS\n",
      "\n",
      "It     pcost       dcost      gap   pres   dres    k/t    mu     step   sigma     IR    |   BT\n",
      " 0  +0.000e+00  -1.163e-02  +5e+01  5e-01  7e-01  1e+00  3e+00    ---    ---    1  1  - |  -  - \n",
      " 1  +1.199e+00  +1.837e+00  +2e+01  1e-01  2e-01  9e-01  9e-01  0.7527  2e-01   0  0  0 |  0  0\n",
      " 2  +1.987e+00  +2.268e+00  +6e+00  5e-02  6e-02  4e-01  3e-01  0.7322  9e-02   0  0  0 |  0  0\n",
      " 3  +2.335e+00  +2.363e+00  +5e-01  4e-03  5e-03  4e-02  3e-02  0.9172  8e-03   0  0  0 |  0  0\n",
      " 4  +2.384e+00  +2.394e+00  +2e-01  2e-03  2e-03  1e-02  1e-02  0.6323  2e-01   1  0  0 |  0  0\n",
      " 5  +2.402e+00  +2.404e+00  +7e-02  5e-04  5e-04  3e-03  4e-03  0.8395  1e-01   0  0  0 |  0  0\n",
      " 6  +2.410e+00  +2.410e+00  +2e-03  1e-05  1e-05  2e-05  1e-04  0.9780  5e-03   1  0  0 |  0  0\n",
      " 7  +2.411e+00  +2.411e+00  +2e-05  1e-07  2e-07  3e-07  1e-06  0.9890  1e-04   1  0  0 |  0  0\n",
      " 8  +2.411e+00  +2.411e+00  +3e-07  1e-09  2e-09  3e-09  1e-08  0.9890  1e-04   1  0  0 |  0  0\n",
      " 9  +2.411e+00  +2.411e+00  +3e-09  2e-11  2e-11  3e-11  1e-10  0.9890  1e-04   1  0  0 |  0  0\n",
      "\n",
      "OPTIMAL (within feastol=1.9e-11, reltol=1.2e-09, abstol=2.8e-09).\n",
      "Runtime: 0.012256 seconds.\n",
      "\n"
     ]
    },
    {
     "data": {
      "text/plain": [
       "(array([-0.58143911, -1.41228946,  0.05502248,  0.16102626, -0.20073526]),\n",
       " array([-0.02610947, -0.00706644,  0.00093776, -0.00592091, -0.01188519]),\n",
       " 'optimal')"
      ]
     },
     "execution_count": 11,
     "metadata": {},
     "output_type": "execute_result"
    }
   ],
   "source": [
    "f = DSelect(X, y, sigma=sigma)\n",
    "f"
   ]
  },
  {
   "cell_type": "code",
   "execution_count": 12,
   "metadata": {},
   "outputs": [
    {
     "name": "stdout",
     "output_type": "stream",
     "text": [
      "True \t Dantzig selector\n",
      "-0.576 \t -0.581\n",
      "-1.424 \t -1.412\n",
      " 0.095 \t  0.055\n",
      " 0.181 \t  0.161\n",
      "-0.164 \t -0.201\n"
     ]
    }
   ],
   "source": [
    "print(\"True \\t Dantzig selector\")\n",
    "for i in range(len(theta_true)):\n",
    "    print('{:6.3f} \\t {:6.3f}'.format(theta_true[i],f[0][i]))"
   ]
  },
  {
   "cell_type": "markdown",
   "metadata": {
    "collapsed": true
   },
   "source": [
    "### b. Example du papier de Candes/Tao"
   ]
  },
  {
   "cell_type": "code",
   "execution_count": 13,
   "metadata": {},
   "outputs": [],
   "source": [
    "import random\n",
    "\n",
    "n = 256\n",
    "m = 72\n",
    "S = 8\n",
    "\n",
    "S_set = random.sample(range(n),k=S)\n",
    "\n",
    "X = np.random.randn(m,n)\n",
    "\n",
    "beta = np.zeros(n)\n",
    "beta[S_set] = np.random.randn(S)\n",
    "\n",
    "sigma = 1/3.0*np.sqrt(S/m)\n",
    "y = np.dot(X,beta) + sigma*np.random.randn(m)"
   ]
  },
  {
   "cell_type": "code",
   "execution_count": 14,
   "metadata": {},
   "outputs": [
    {
     "name": "stdout",
     "output_type": "stream",
     "text": [
      "\n",
      "ECOS 2.0.7 - (C) embotech GmbH, Zurich Switzerland, 2012-15. Web: www.embotech.com/ECOS\n",
      "\n",
      "It     pcost       dcost      gap   pres   dres    k/t    mu     step   sigma     IR    |   BT\n",
      " 0  +0.000e+00  -3.552e-01  +2e+03  3e-01  1e+00  1e+00  2e+00    ---    ---    1  1  - |  -  - \n",
      " 1  +6.541e+00  +9.128e+00  +2e+03  2e-01  6e-01  3e+00  2e+00  0.6051  6e-01   0  0  0 |  0  0\n",
      " 2  +2.465e+00  +5.552e+00  +9e+02  5e-02  2e-01  3e+00  8e-01  0.7165  3e-01   1  0  0 |  0  0\n",
      " 3  +4.875e+00  +6.174e+00  +4e+02  2e-02  7e-02  1e+00  4e-01  0.5568  2e-01   1  0  0 |  0  0\n",
      " 4  +8.005e+00  +8.125e+00  +1e+02  2e-03  1e-02  1e-01  9e-02  0.8602  8e-02   1  1  0 |  0  0\n",
      " 5  +9.737e+00  +9.778e+00  +5e+01  9e-04  5e-03  5e-02  5e-02  0.6250  2e-01   1  0  0 |  0  0\n",
      " 6  +1.042e+01  +1.043e+01  +1e+01  2e-04  1e-03  1e-02  1e-02  0.7516  4e-02   1  0  0 |  0  0\n",
      " 7  +1.052e+01  +1.052e+01  +6e+00  1e-04  5e-04  4e-03  6e-03  0.6542  2e-01   1  0  0 |  0  0\n",
      " 8  +1.057e+01  +1.057e+01  +3e+00  5e-05  2e-04  2e-03  3e-03  0.6201  1e-01   1  0  0 |  0  0\n",
      " 9  +1.060e+01  +1.060e+01  +1e+00  2e-05  9e-05  5e-04  1e-03  0.7148  1e-01   1  0  0 |  0  0\n",
      "10  +1.061e+01  +1.061e+01  +4e-01  8e-06  4e-05  2e-04  4e-04  0.6329  1e-01   1  0  0 |  0  0\n",
      "11  +1.061e+01  +1.061e+01  +2e-01  3e-06  1e-05  5e-05  2e-04  0.7321  1e-01   1  0  0 |  0  0\n",
      "12  +1.062e+01  +1.062e+01  +7e-02  1e-06  6e-06  2e-05  7e-05  0.6011  1e-01   1  1  1 |  0  0\n",
      "13  +1.062e+01  +1.062e+01  +3e-02  5e-07  2e-06  6e-06  3e-05  0.7285  1e-01   1  1  1 |  0  0\n",
      "14  +1.062e+01  +1.062e+01  +6e-03  1e-07  5e-07  9e-07  6e-06  0.8729  1e-01   1  1  1 |  0  0\n",
      "15  +1.062e+01  +1.062e+01  +2e-03  3e-08  1e-07  2e-07  2e-06  0.8667  1e-01   1  1  1 |  0  0\n",
      "16  +1.062e+01  +1.062e+01  +2e-04  4e-09  2e-08  2e-08  2e-07  0.8566  9e-03   1  1  1 |  0  0\n",
      "17  +1.062e+01  +1.062e+01  +1e-04  2e-09  9e-09  8e-09  1e-07  0.7600  3e-01   1  1  1 |  0  0\n",
      "18  +1.062e+01  +1.062e+01  +6e-05  1e-09  5e-09  4e-09  6e-08  0.6658  3e-01   1  1  1 |  0  0\n",
      "19  +1.062e+01  +1.062e+01  +4e-06  7e-11  3e-10  2e-10  4e-09  0.9369  7e-04   1  1  1 |  0  0\n",
      "20  +1.062e+01  +1.062e+01  +4e-08  8e-13  4e-12  3e-12  4e-11  0.9890  1e-04   1  1  1 |  0  0\n",
      "\n",
      "OPTIMAL (within feastol=3.6e-12, reltol=4.1e-09, abstol=4.4e-08).\n",
      "Runtime: 2.783642 seconds.\n",
      "\n"
     ]
    }
   ],
   "source": [
    "f = DSelect(X, y, sigma= sigma)"
   ]
  },
  {
   "cell_type": "code",
   "execution_count": 15,
   "metadata": {},
   "outputs": [
    {
     "data": {
      "text/plain": [
       "[149, 244, 33, 166, 189, 221, 217, 152]"
      ]
     },
     "execution_count": 15,
     "metadata": {},
     "output_type": "execute_result"
    }
   ],
   "source": [
    "S_set"
   ]
  },
  {
   "cell_type": "code",
   "execution_count": 16,
   "metadata": {},
   "outputs": [
    {
     "data": {
      "text/plain": [
       "[<matplotlib.lines.Line2D at 0x27a5ee08048>]"
      ]
     },
     "execution_count": 16,
     "metadata": {},
     "output_type": "execute_result"
    }
   ],
   "source": [
    "import matplotlib.pyplot as plt\n",
    "\n",
    "plt.plot(beta,'ro')\n",
    "plt.plot(f[0],'b*')"
   ]
  },
  {
   "cell_type": "code",
   "execution_count": null,
   "metadata": {},
   "outputs": [],
   "source": []
  }
 ],
 "metadata": {
  "kernelspec": {
   "display_name": "Python 3",
   "language": "python",
   "name": "python3"
  },
  "language_info": {
   "codemirror_mode": {
    "name": "ipython",
    "version": 3
   },
   "file_extension": ".py",
   "mimetype": "text/x-python",
   "name": "python",
   "nbconvert_exporter": "python",
   "pygments_lexer": "ipython3",
   "version": "3.7.4"
  },
  "varInspector": {
   "cols": {
    "lenName": 16,
    "lenType": 16,
    "lenVar": 40
   },
   "kernels_config": {
    "python": {
     "delete_cmd_postfix": "",
     "delete_cmd_prefix": "del ",
     "library": "var_list.py",
     "varRefreshCmd": "print(var_dic_list())"
    },
    "r": {
     "delete_cmd_postfix": ") ",
     "delete_cmd_prefix": "rm(",
     "library": "var_list.r",
     "varRefreshCmd": "cat(var_dic_list()) "
    }
   },
   "types_to_exclude": [
    "module",
    "function",
    "builtin_function_or_method",
    "instance",
    "_Feature"
   ],
   "window_display": false
  }
 },
 "nbformat": 4,
 "nbformat_minor": 1
}
