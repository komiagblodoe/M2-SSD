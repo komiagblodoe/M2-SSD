{
 "cells": [
  {
   "cell_type": "markdown",
   "metadata": {},
   "source": [
    "# TP 1 - exercice 1 :  premiers pas avec Scikit-Learn - régressions linéaires et polynomiales\n",
    "\n",
    "Dans cet exercice nous allons réaliser quelques opérations de base en Python et Scikit-Learn.\n",
    "L'objectif sera d'apprendre des modèles de régression linéaires et polynomiales, de les représenter et de calculer leurs performances en terme d'erreur quadratique moyenne.\n",
    "\n",
    "Nous apprendrons pour cela à manipuler les classes les classes **LinearRegresion** et **PolynomialFeatures** de Scikit-Learn.\n",
    "\n",
    "Cet exercice sera également l'occasion de manipuler des fonctions de NumPy et MatPlotLib pour générer des nombres aléatoires et présenter les résultats sous la forme de figure."
   ]
  },
  {
   "cell_type": "code",
   "execution_count": 9,
   "metadata": {},
   "outputs": [
    {
     "ename": "NameError",
     "evalue": "name 'sr' is not defined",
     "output_type": "error",
     "traceback": [
      "\u001b[1;31m---------------------------------------------------------------------------\u001b[0m",
      "\u001b[1;31mNameError\u001b[0m                                 Traceback (most recent call last)",
      "\u001b[1;32m<ipython-input-9-3bfb5a692fce>\u001b[0m in \u001b[0;36m<module>\u001b[1;34m\u001b[0m\n\u001b[0;32m      1\u001b[0m \u001b[1;32mimport\u001b[0m \u001b[0mnumpy\u001b[0m \u001b[1;32mas\u001b[0m \u001b[0mnp\u001b[0m\u001b[1;33m\u001b[0m\u001b[1;33m\u001b[0m\u001b[0m\n\u001b[0;32m      2\u001b[0m \u001b[0mnp\u001b[0m\u001b[1;33m.\u001b[0m\u001b[0mpi\u001b[0m\u001b[1;33m\u001b[0m\u001b[1;33m\u001b[0m\u001b[0m\n\u001b[1;32m----> 3\u001b[1;33m sr<-np.array([-0.42155944,  0.32696095,  0.72132767,  0.68216915,  2.0431403 ,\n\u001b[0m\u001b[0;32m      4\u001b[0m        \u001b[1;33m-\u001b[0m\u001b[1;36m1.48293911\u001b[0m\u001b[1;33m,\u001b[0m  \u001b[1;36m0.3344813\u001b[0m \u001b[1;33m,\u001b[0m \u001b[1;33m-\u001b[0m\u001b[1;36m0.3313638\u001b[0m \u001b[1;33m,\u001b[0m  \u001b[1;36m0.47141251\u001b[0m\u001b[1;33m,\u001b[0m  \u001b[1;36m0.70251685\u001b[0m\u001b[1;33m,\u001b[0m\u001b[1;33m\u001b[0m\u001b[1;33m\u001b[0m\u001b[0m\n\u001b[0;32m      5\u001b[0m        \u001b[1;33m-\u001b[0m\u001b[1;36m0.02456311\u001b[0m\u001b[1;33m,\u001b[0m  \u001b[1;36m0.75583504\u001b[0m\u001b[1;33m,\u001b[0m \u001b[1;33m-\u001b[0m\u001b[1;36m0.17564685\u001b[0m\u001b[1;33m,\u001b[0m \u001b[1;33m-\u001b[0m\u001b[1;36m1.01722232\u001b[0m\u001b[1;33m,\u001b[0m \u001b[1;33m-\u001b[0m\u001b[1;36m0.09628221\u001b[0m\u001b[1;33m,\u001b[0m\u001b[1;33m\u001b[0m\u001b[1;33m\u001b[0m\u001b[0m\n",
      "\u001b[1;31mNameError\u001b[0m: name 'sr' is not defined"
     ]
    }
   ],
   "source": [
    "import numpy as np\n",
    "\n",
    "sr<-np.array([-0.42155944,  0.32696095,  0.72132767,  0.68216915,  2.0431403 ,\n",
    "       -1.48293911,  0.3344813 , -0.3313638 ,  0.47141251,  0.70251685,\n",
    "       -0.02456311,  0.75583504, -0.17564685, -1.01722232, -0.09628221,\n",
    "        0.07192406,  1.19328108,  0.2695099 , -0.18019664, -0.7891841 ,\n",
    "       -6.6323341 ])"
   ]
  },
  {
   "cell_type": "markdown",
   "metadata": {},
   "source": [
    "### Question 1. Générer un vecteur $x$ contenant $n=10$ points répartis uniformément sur l'intervalle $[0,1]$.\n",
    "* la fonction **random.uniform** du package *NumPy* permet de générer des nombres aléatoires selon une loi uniforme."
   ]
  },
  {
   "cell_type": "code",
   "execution_count": 13,
   "metadata": {},
   "outputs": [],
   "source": [
    "# standard imports\n",
    "import numpy as np\n",
    "%matplotlib inline\n",
    "import matplotlib\n",
    "import matplotlib.pyplot as plt\n",
    "# set random seed\n",
    "np.random.seed(22)\n",
    "np.pi\n",
    "sr = np.array([-0.42155944,  0.32696095,  0.72132767,  0.68216915,  2.0431403 ,\n",
    "       -1.48293911,  0.3344813 , -0.3313638 ,  0.47141251,  0.70251685,\n",
    "       -0.02456311,  0.75583504, -0.17564685, -1.01722232, -0.09628221,\n",
    "        0.07192406,  1.19328108,  0.2695099 , -0.18019664, -0.7891841 ,\n",
    "       -6.6323341 ])\n",
    "np"
   ]
  },
  {
   "cell_type": "code",
   "execution_count": 12,
   "metadata": {},
   "outputs": [],
   "source": [
    "a = np.array([[1, 2, 3], [4, 5, 6]])"
   ]
  },
  {
   "cell_type": "markdown",
   "metadata": {},
   "source": [
    " ### Question 2. Générer la variable  $y = 3x + 4 + \\epsilon$ où $\\epsilon$ est un bruit suivant une loi normale centrée sur 0 et d'écart type $\\sigma = 0.5$. Tracer $y$ en fonction de $x$.\n",
    "* la  fonction **random.normal** du package *NumPy* permet de générer des nombres distribués normalement."
   ]
  },
  {
   "cell_type": "code",
   "execution_count": null,
   "metadata": {
    "collapsed": true
   },
   "outputs": [],
   "source": []
  },
  {
   "cell_type": "markdown",
   "metadata": {},
   "source": [
    "### Question 3. Effectuer une régression linéaire de $y$ en fonction de $x$ en utilisant la classe *LinearRegression* du package Scikit-Learn avec le code ci-dessous. Comparer les coefficients de pente et d'ordonnée à l'origine obtenus à leurs vraies valeurs.\n",
    "* On rappelle que la procédure pour construire un modèle avec scikit-learn consiste à :\n",
    "    1. importer la classe correpondante\n",
    "    2. instancier le modèle\n",
    "    3. appeler sa méthode **fit** en lui donnant comme argument  $x$ et $y$."
   ]
  },
  {
   "cell_type": "code",
   "execution_count": null,
   "metadata": {
    "collapsed": true
   },
   "outputs": [],
   "source": [
    "# NB : scikit-learn expects to have a 2D array as input, we need to reshape it \n",
    "x = x.reshape(-1,1)\n",
    "# load class\n",
    "from sklearn.linear_model import LinearRegression\n",
    "# instanciate model\n",
    "linReg = LinearRegression()\n",
    "# learn model\n",
    "linReg.fit(x,y)"
   ]
  },
  {
   "cell_type": "code",
   "execution_count": null,
   "metadata": {
    "collapsed": true
   },
   "outputs": [],
   "source": []
  },
  {
   "cell_type": "markdown",
   "metadata": {},
   "source": [
    "### Question 4. Génerer une figure représentant (1) le jeu de données, (2) la droite de régression obtenue et (3) la vraie droite $y = 3x+4$.\n",
    "* On pourra pour cela : \n",
    "    1. générer une grille de valeur régulièrement  espacée entre 0 et 1 en utilisant la fonction **linspace** du module NumPy\n",
    "    2. obtenir les prédictions en appelant la mérthode **predict** de l'objet *LinearRegression*\n",
    "* (Une alternative pour l'étape 2 étant d'en extraire la pente et l'intercept et de calculer manuellement les prédictions)"
   ]
  },
  {
   "cell_type": "code",
   "execution_count": null,
   "metadata": {
    "collapsed": true
   },
   "outputs": [],
   "source": []
  },
  {
   "cell_type": "markdown",
   "metadata": {},
   "source": [
    " ### Question 5. Calculer l'erreur faite par le modèle sur les 10 points d'apprentissage ainsi que sur l'ensemble de l'intervalle $[0,1]$ selon le critère du \"RMSE\", la racine carrée de l'errreur quadratique moyenne : \n",
    "$$\n",
    "RMSE = \\sqrt{ \\frac{1}{n} \\sum_{i=1}^n \\big(y_i - f(x_i)\\big)^2  }   \n",
    "$$\n",
    "* RMSE = Root Mean Squared Error"
   ]
  },
  {
   "cell_type": "code",
   "execution_count": null,
   "metadata": {
    "collapsed": true
   },
   "outputs": [],
   "source": []
  },
  {
   "cell_type": "markdown",
   "metadata": {},
   "source": [
    "### Question 6. Réaliser la même analyse en considérant un modèle de régression polynomiale d'ordre $d \\in \\{2,3,5,9\\}$ et comparer les erreurs obtenues (sur le vecteur d'apprentissage $x$ ainsi que sur l'ensemble de l'intervalle $[0,1]$).\n",
    "* Pour réaliser une régression polynomiale on s'appuiera sur la classe **PolynomialFeatures** du module **preprocessing** de Scikit-Learn.\n",
    "* La procédure consiste à : \n",
    "    1. transformer les données en utilisant la fonction **fit_transform** de l'objet **PolynomialFeatures**, ce qui a pour effet de réaliser l'expansion polynomiale.\n",
    "    2. apprendre un modèle de régression linéaire, en utilisant la classe **LinearRegression**, à partir de la martrice obtenue (et du vecteur $y$).\n",
    "* A noter que pour la prédiction, il faut également transformer les données **avant** d'appeler la mérthode **predict** de l'objet **LinearRegression**."
   ]
  },
  {
   "cell_type": "code",
   "execution_count": null,
   "metadata": {
    "collapsed": true
   },
   "outputs": [],
   "source": []
  }
 ],
 "metadata": {
  "kernelspec": {
   "display_name": "Python 3",
   "language": "python",
   "name": "python3"
  },
  "language_info": {
   "codemirror_mode": {
    "name": "ipython",
    "version": 3
   },
   "file_extension": ".py",
   "mimetype": "text/x-python",
   "name": "python",
   "nbconvert_exporter": "python",
   "pygments_lexer": "ipython3",
   "version": "3.7.4"
  }
 },
 "nbformat": 4,
 "nbformat_minor": 2
}
