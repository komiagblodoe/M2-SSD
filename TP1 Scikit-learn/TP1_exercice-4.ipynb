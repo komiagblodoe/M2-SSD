{
 "cells": [
  {
   "cell_type": "markdown",
   "metadata": {},
   "source": [
    "# TP 1 - exercice 4 :  analyse exploratoire et mise en forme des descripteurs\n",
    "\n",
    "Dans cet exercice nous allons (re)voir quelques outils classiques d'**analyse exploratoire** disponibles dans le  package *Pandas*, que l'on met en général en oeuvre pour avoir une meilleure connaissance du jeu de données à étudier avant de passer à l'étape de modélisation à proprement parler.\n",
    "\n",
    "Nous apprendrons également à manipuler certains outils de **pré-traitement des données** disponibles dans le [module PreProcessing](http://scikit-learn.org/stable/modules/preprocessing.html) de scikit-learn, permettant d'appliquer diverses transformations aux descripteurs : standardisation, imputation de données manquantes, ... \n",
    "\n",
    "Cet exercice est tiré du livre [hands on machine learning with scikit-learn and tensorflow](http://shop.oreilly.com/product/0636920052289.do). \n",
    "Nous travaillerons à partir du jeu de données **California Housing**, et plus précisemment d'une [version sensiblement modifiée](https://github.com/ageron/handson-ml/tree/master/datasets/housing), préparée par l'auteur du livre. "
   ]
  },
  {
   "cell_type": "markdown",
   "metadata": {},
   "source": [
    "### Question 1 : charger le jeu de données *housing.csv* en utilisant la fonction *read_csv* du package *pandas*"
   ]
  },
  {
   "cell_type": "code",
   "execution_count": null,
   "metadata": {
    "collapsed": true
   },
   "outputs": [],
   "source": [
    "# standard imports\n",
    "import numpy as np\n",
    "%matplotlib inline\n",
    "import matplotlib\n",
    "import matplotlib.pyplot as plt\n",
    "import pandas as pd"
   ]
  },
  {
   "cell_type": "code",
   "execution_count": null,
   "metadata": {
    "collapsed": true
   },
   "outputs": [],
   "source": []
  },
  {
   "cell_type": "markdown",
   "metadata": {},
   "source": [
    "### Question 2 : analyser les propriétés générales du jeu de données via les méthodes *info* et *describe* de la classe DataFrame. De combien d'instances et de descripteurs se constitue le jeu de données ? De quelle nature sont-ils ? Quelle(s) autre(s) observations(s) peut-on faire ? Quelle fonction de Pandas permet d'avoir un aperçu des premières  lignes du tableau ?"
   ]
  },
  {
   "cell_type": "code",
   "execution_count": null,
   "metadata": {},
   "outputs": [],
   "source": []
  },
  {
   "cell_type": "markdown",
   "metadata": {},
   "source": [
    "### Question 3 : représenter les distributions des descripteurs quantitatifs en utilisant la méthode *hist* de la classe  DataFrame. Qu'observez-vous ? Comment contrôle le nombre de cases à considérer dans l'histogramme ?\n",
    "* NB : il n'est pas nécessaire de sélectionner au préalable les descripteurs quantitatifs, la fonction **hist** les sélectionne automatiquement."
   ]
  },
  {
   "cell_type": "code",
   "execution_count": null,
   "metadata": {},
   "outputs": [],
   "source": []
  },
  {
   "cell_type": "markdown",
   "metadata": {},
   "source": [
    "### Question 4 : représenter les corrélations entre les descripteurs *median_house_value*, *median_income* et *total_rooms* via la fonction *scatter_matrix* (à importer du module *pandas.plotting*). Quelle(s) observation(s) peut-on faire ? Comment faire pour afficher les densités (plutôt que les histogrammnes) sur la diagonale de la figure ?"
   ]
  },
  {
   "cell_type": "code",
   "execution_count": null,
   "metadata": {},
   "outputs": [],
   "source": []
  },
  {
   "cell_type": "markdown",
   "metadata": {},
   "source": [
    "### Question 5 : nous allons à présent mettre en forme le jeu de données : \n",
    "#### 1) la variable d'intérêt (à prédire) est la variable *median_house_value* : séparer le jeu de données en variables explicatives (features) et variable à expliquer (réponse).\n",
    "* on pourra notamment utiliser la méthode **drop** des DataFrames de Pandas"
   ]
  },
  {
   "cell_type": "code",
   "execution_count": null,
   "metadata": {
    "collapsed": true
   },
   "outputs": [],
   "source": []
  },
  {
   "cell_type": "markdown",
   "metadata": {},
   "source": [
    "#### 2) Mettre en forme les descripteurs quantitatifs grace au code ci-dessous, qui va les extraire, imputer les données manquantes par la méthode de la médiane et les standardiser. Vérifier ensuite que les valeurs stockées dans le champ *statistics_* de l'objet *Imputer* correspondent bien aux valeurs médianes des descripteurs. Comment accéde t'on aux valeurs des moyennes et variances utilisées par la standardisation ? "
   ]
  },
  {
   "cell_type": "code",
   "execution_count": null,
   "metadata": {},
   "outputs": [],
   "source": [
    "# discard qualitative features : median-based imputation only valid for quantitative variables\n",
    "features_num = features.drop(\"ocean_proximity\", axis = 1)\n",
    "\n",
    "# import Imputer class and instantiate\n",
    "from sklearn.preprocessing import Imputer\n",
    "imputer = Imputer(strategy = \"median\")\n",
    "# fit imputer\n",
    "imputer.fit(features_num)\n",
    "# apply imputer\n",
    "X_input = imputer.transform(features_num)\n",
    "\n",
    "# apply standardization\n",
    "from sklearn.preprocessing import StandardScaler\n",
    "scaler = StandardScaler()\n",
    "# fit scaler\n",
    "scaler.fit(X_input)\n",
    "# apply scaler\n",
    "X_std = scaler.transform(X_input) "
   ]
  },
  {
   "cell_type": "code",
   "execution_count": null,
   "metadata": {},
   "outputs": [],
   "source": []
  },
  {
   "cell_type": "markdown",
   "metadata": {},
   "source": [
    "#### 2) Le descrpiteur *ocean_proximity* est un descripteur quantitatif. L'extraire, et le convertir en variable quantitative par la méthode \"one-hot encoding\" avec le code ci-dessous. Quelle est la dimension de la matrice obtenue ? Pourquoi ? Quel est l'intérêt de cet encodage par rapport à encoder les valeurs prises par la variable par des entiers entre 1 et K ?\n",
    "\n",
    "* notons au passage que la fonction **value_counts** du package *Pandas* est l'équivalent de la fonction *table* de *R*: elle permet de compter les effectifs des différentes modalités d'une variable qualitative. "
   ]
  },
  {
   "cell_type": "code",
   "execution_count": null,
   "metadata": {
    "collapsed": true
   },
   "outputs": [],
   "source": [
    "housing_cat = housing['ocean_proximity']\n",
    "housing_cat.value_counts()\n",
    "\n",
    "# import encoder and instantiate\n",
    "from sklearn.preprocessing import LabelBinarizer\n",
    "encoder = LabelBinarizer()\n",
    "# fit & transform\n",
    "Xcat = encoder.fit_transform(housing_cat)"
   ]
  },
  {
   "cell_type": "code",
   "execution_count": null,
   "metadata": {},
   "outputs": [],
   "source": []
  },
  {
   "cell_type": "markdown",
   "metadata": {},
   "source": [
    "#### 3) Fusionner les descripteurs quantitatifs et qualitatifs mis en forme avec la fonction *concatenate* du package *NumPy* "
   ]
  },
  {
   "cell_type": "code",
   "execution_count": null,
   "metadata": {
    "collapsed": true
   },
   "outputs": [],
   "source": []
  },
  {
   "cell_type": "markdown",
   "metadata": {},
   "source": [
    "## Question 6. Réaliser une analyse en composante principale du jeu de données. Comparer à ce que l'on obtient après avoir supprimé les variables *longitude* et *latitude*, qui structurent fortement le jeu de données.\n",
    "\n",
    "* on considèrera une 2 composantes pour l'ACP, se référer à l'exemple donné dans le cours si besoin.\n",
    "* on utilisera la variable à expliquer comme code couleur pour la représentation"
   ]
  },
  {
   "cell_type": "code",
   "execution_count": null,
   "metadata": {},
   "outputs": [],
   "source": []
  }
 ],
 "metadata": {
  "kernelspec": {
   "display_name": "Python 3",
   "language": "python",
   "name": "python3"
  },
  "language_info": {
   "codemirror_mode": {
    "name": "ipython",
    "version": 3
   },
   "file_extension": ".py",
   "mimetype": "text/x-python",
   "name": "python",
   "nbconvert_exporter": "python",
   "pygments_lexer": "ipython3",
   "version": "3.6.1"
  }
 },
 "nbformat": 4,
 "nbformat_minor": 2
}
