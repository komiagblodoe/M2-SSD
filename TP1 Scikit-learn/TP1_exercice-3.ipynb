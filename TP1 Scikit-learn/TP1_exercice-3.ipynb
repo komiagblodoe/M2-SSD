{
 "cells": [
  {
   "cell_type": "markdown",
   "metadata": {},
   "source": [
    "# TP1 - exercice 3 : $k$ plus proches voisins & validation croisée\n",
    "\n",
    "Dans cet exercice nous allons apprendre à manipuler : \n",
    "1. la classe **KNeighborsClassifier** qui permet de réaliser de la classification par la méthode des $k$ plus proches voisins, \n",
    "2. les fonctions **cross_val_score**  et **cross_val_predict** qui permettent de réaliser des expériences de validation croisée.\n",
    "\n",
    "Nous travaillerons pour cela sur le jeu de données **breast cancer** que l'on peut [charger à partir de scikit-learn](http://scikit-learn.org/stable/modules/generated/sklearn.datasets.load_breast_cancer.html#sklearn.datasets.load_breast_cancer) et dont on trouve un descriptif sur le [site de l'UCI](https://archive.ics.uci.edu/ml/datasets/Breast+Cancer+Wisconsin+(Diagnostic).\n",
    "\n",
    "Cet exercice nous permettra également d'illustrer l'importance de standardiser les descripteurs avec les $k$ plus proches voisins."
   ]
  },
  {
   "cell_type": "markdown",
   "metadata": {},
   "source": [
    "## Question 1. Charger le jeu de données en utilisant la fonction *load_breast_cancer*  du module *datasets*. En extraire le nombre d'observations et de descripteurs disponibles et représenter sous la forme d'un diagramme en bâton (barplot) les effectifs par classe. \n",
    "\n",
    "* Pour représenter les effectifs on pourra par exemple s'appuyer sur la fonction [*bincount*](https://docs.scipy.org/doc/numpy/reference/generated/numpy.bincount.html) du package NumPy et sur la fonction [*bar*](https://matplotlib.org/devdocs/api/_as_gen/matplotlib.pyplot.bar.html) du package MatPlotlib."
   ]
  },
  {
   "cell_type": "code",
   "execution_count": 1,
   "metadata": {},
   "outputs": [],
   "source": [
    "# generic imports #\n",
    "#-----------------#\n",
    "import numpy as np\n",
    "import matplotlib\n",
    "import matplotlib.pyplot as plt"
   ]
  },
  {
   "cell_type": "code",
   "execution_count": 13,
   "metadata": {},
   "outputs": [
    {
     "name": "stdout",
     "output_type": "stream",
     "text": [
      "(569, 30)\n",
      "(569,)\n"
     ]
    },
    {
     "data": {
      "text/plain": [
       "<BarContainer object of 2 artists>"
      ]
     },
     "execution_count": 13,
     "metadata": {},
     "output_type": "execute_result"
    },
    {
     "data": {
      "image/png": "[encoded data removed]",
      "text/plain": [
       "<Figure size 432x288 with 1 Axes>"
      ]
     },
     "metadata": {
      "needs_background": "light"
     },
     "output_type": "display_data"
    }
   ],
   "source": [
    "from sklearn import datasets\n",
    "breast = datasets.load_breast_cancer()\n",
    "X=breast.data\n",
    "y=breast.target\n",
    "print(X.shape)\n",
    "print(y.shape)\n",
    "\n",
    "plt.bar(range(2),np.bincount(y))\n",
    "#plt.show"
   ]
  },
  {
   "cell_type": "code",
   "execution_count": 10,
   "metadata": {},
   "outputs": [
    {
     "data": {
      "text/plain": [
       "array([212, 357], dtype=int64)"
      ]
     },
     "execution_count": 10,
     "metadata": {},
     "output_type": "execute_result"
    }
   ],
   "source": [
    "np.bincount(y)"
   ]
  },
  {
   "cell_type": "markdown",
   "metadata": {},
   "source": [
    "## Question 2. Estimer les performances de classification de l'algorithme des $k$ plus proches voisins par validation croisée pour $k \\in \\{1,3,5,7\\}$ et en considérant  10 folds. Quel est l'intérêt d'utiliser un nombre impair de voisins ?\n",
    "\n",
    "* on utilisera pour cela la classe [*KNeighborsClassifier*](http://scikit-learn.org/stable/modules/generated/sklearn.neighbors.KNeighborsClassifier.html) du module *neighbors* et la fonction [*cross_val_score*](http://scikit-learn.org/stable/modules/generated/sklearn.model_selection.cross_val_score.html#sklearn.model_selection.cross_val_score) du module *model_selection*."
   ]
  },
  {
   "cell_type": "code",
   "execution_count": 22,
   "metadata": {},
   "outputs": [
    {
     "data": {
      "text/plain": [
       "{'whiskers': [<matplotlib.lines.Line2D at 0x17393c9b508>,\n",
       "  <matplotlib.lines.Line2D at 0x17393c89e48>,\n",
       "  <matplotlib.lines.Line2D at 0x1739397ab08>,\n",
       "  <matplotlib.lines.Line2D at 0x1739399f888>,\n",
       "  <matplotlib.lines.Line2D at 0x17393960f88>,\n",
       "  <matplotlib.lines.Line2D at 0x1739397c608>,\n",
       "  <matplotlib.lines.Line2D at 0x17393971e88>,\n",
       "  <matplotlib.lines.Line2D at 0x173939748c8>],\n",
       " 'caps': [<matplotlib.lines.Line2D at 0x17393c9b848>,\n",
       "  <matplotlib.lines.Line2D at 0x17393c9bd88>,\n",
       "  <matplotlib.lines.Line2D at 0x1739397ac88>,\n",
       "  <matplotlib.lines.Line2D at 0x17393971b08>,\n",
       "  <matplotlib.lines.Line2D at 0x1739397cbc8>,\n",
       "  <matplotlib.lines.Line2D at 0x1739397cb48>,\n",
       "  <matplotlib.lines.Line2D at 0x1739396f588>,\n",
       "  <matplotlib.lines.Line2D at 0x1739396f2c8>],\n",
       " 'boxes': [<matplotlib.lines.Line2D at 0x17393c89c08>,\n",
       "  <matplotlib.lines.Line2D at 0x173938ebe48>,\n",
       "  <matplotlib.lines.Line2D at 0x1739397a088>,\n",
       "  <matplotlib.lines.Line2D at 0x17393960688>],\n",
       " 'medians': [<matplotlib.lines.Line2D at 0x1739399fa48>,\n",
       "  <matplotlib.lines.Line2D at 0x17393971f08>,\n",
       "  <matplotlib.lines.Line2D at 0x1739397cd48>,\n",
       "  <matplotlib.lines.Line2D at 0x1739396fa08>],\n",
       " 'fliers': [<matplotlib.lines.Line2D at 0x1739399ff88>,\n",
       "  <matplotlib.lines.Line2D at 0x17393971c88>,\n",
       "  <matplotlib.lines.Line2D at 0x17393974c08>,\n",
       "  <matplotlib.lines.Line2D at 0x1739396fe88>],\n",
       " 'means': []}"
      ]
     },
     "execution_count": 22,
     "metadata": {},
     "output_type": "execute_result"
    },
    {
     "data": {
      "image/png": "[encoded data removed]",
      "text/plain": [
       "<Figure size 432x288 with 1 Axes>"
      ]
     },
     "metadata": {
      "needs_background": "light"
     },
     "output_type": "display_data"
    }
   ],
   "source": [
    "from sklearn.neighbors import KNeighborsClassifier \n",
    "from sklearn.model_selection import cross_val_score\n",
    "\n",
    "k= np.array(range(1,8,2))\n",
    "cv = []\n",
    "for i in k:\n",
    "    knn =KNeighborsClassifier(n_neighbors=i)\n",
    "    cv_perf=cross_val_score(knn,X,y,cv=10)\n",
    "    cv.append(cv_perf)\n",
    "    \n",
    "plt.figure()\n",
    "plt.boxplot(cv)\n",
    "    \n",
    "\n"
   ]
  },
  {
   "cell_type": "markdown",
   "metadata": {},
   "source": [
    "##  Question 3. La fonction *cross_val_score* calcule la performance de prédiction obtenue dans les différentes folds. Représenter par un \"boxplot\" la distribution des performances obtenues par fold pour les différentes valeurs de $k$, et sélectionner la valeur de $k$ conduisant à la meilleure performance médiane.\n",
    "\n",
    "* On pourra s'appuyer sur la fonction [*boxplot*](https://matplotlib.org/devdocs/api/_as_gen/matplotlib.pyplot.boxplot.html#matplotlib.pyplot.boxplot) du package MatplotLib. Elle permet de tracer sur un même graphique plusieurs boxplot à partir d'une matrice ou d'une liste."
   ]
  },
  {
   "cell_type": "code",
   "execution_count": 23,
   "metadata": {},
   "outputs": [],
   "source": [
    "\n",
    "knn =KNeighborsClassifier(n_neighbors=3)"
   ]
  },
  {
   "cell_type": "markdown",
   "metadata": {},
   "source": [
    "## Question 4. Pour avoir une vision plus détaillée des résultats de classification il peut-être intéressant de calculer une matrice de confusion. La fonction [*cross_val_predict*](http://scikit-learn.org/stable/modules/generated/sklearn.model_selection.cross_val_predict.html) du module *model_selection* permet de réaliser une expérience de validation croisée en fournissant les prédictions \"brutes\" plutôt qu'une mesure de performance de classification. \n",
    "\n",
    "## Utiliser cette fonction pour la valeur de $k$ retenue précédemment et calculer la matrice de confusion obtenue en utilisant la fonction [*confusion_matrix*](http://scikit-learn.org/stable/modules/generated/sklearn.metrics.confusion_matrix.html) du module *metrics*. Qu'observez-vous ? Utilisez la fonction [*classification_report*](http://scikit-learn.org/stable/modules/generated/sklearn.metrics.classification_report.html) du module *metrics* pour calculer les indicateurs usuels que l'on peut déduire de cette matrice de confusion."
   ]
  },
  {
   "cell_type": "code",
   "execution_count": 26,
   "metadata": {},
   "outputs": [
    {
     "name": "stdout",
     "output_type": "stream",
     "text": [
      "              precision    recall  f1-score   support\n",
      "\n",
      "           0       0.93      0.87      0.90       212\n",
      "           1       0.93      0.96      0.94       357\n",
      "\n",
      "    accuracy                           0.93       569\n",
      "   macro avg       0.93      0.92      0.92       569\n",
      "weighted avg       0.93      0.93      0.93       569\n",
      "\n"
     ]
    }
   ],
   "source": [
    "from sklearn.model_selection import cross_val_predict\n",
    "from sklearn.metrics import classification_report\n",
    "\n",
    "knn =KNeighborsClassifier(n_neighbors=3)\n",
    "\n",
    "pred= cross_val_predict(knn,X,y,cv=10)\n",
    "\n",
    "print(classification_report(y,pred))\n"
   ]
  },
  {
   "cell_type": "markdown",
   "metadata": {},
   "source": [
    "## Question 5. Reprendre cette analyse en standardisant au préalable les descripteurs. Qu'observez-vous ?\n",
    "\n",
    "* On pourra par exemple utiliser la classe [*StandardScaler*](http://scikit-learn.org/stable/modules/generated/sklearn.preprocessing.StandardScaler.html) du module *preprocessing* pour standardiser les descripteurs.\n"
   ]
  },
  {
   "cell_type": "code",
   "execution_count": 29,
   "metadata": {},
   "outputs": [
    {
     "name": "stdout",
     "output_type": "stream",
     "text": [
      "              precision    recall  f1-score   support\n",
      "\n",
      "           0       0.98      0.92      0.95       212\n",
      "           1       0.96      0.99      0.97       357\n",
      "\n",
      "    accuracy                           0.96       569\n",
      "   macro avg       0.97      0.96      0.96       569\n",
      "weighted avg       0.97      0.96      0.96       569\n",
      "\n"
     ]
    }
   ],
   "source": [
    "from sklearn.preprocessing import StandardScaler\n",
    "\n",
    "scale= StandardScaler()\n",
    "X_scale=scale.fit_transform(X)\n",
    "\n",
    "knn =KNeighborsClassifier(n_neighbors=3)\n",
    "\n",
    "pred= cross_val_predict(knn,X_scale,y,cv=10)\n",
    "\n",
    "print(classification_report(y,pred))"
   ]
  },
  {
   "cell_type": "markdown",
   "metadata": {},
   "source": [
    "## Question 6. Quelles sont les limites de l'approche suivie dans cet exercice pour estimer les performances de prédiction ?"
   ]
  },
  {
   "cell_type": "code",
   "execution_count": null,
   "metadata": {
    "collapsed": true
   },
   "outputs": [],
   "source": []
  }
 ],
 "metadata": {
  "kernelspec": {
   "display_name": "Python 3",
   "language": "python",
   "name": "python3"
  },
  "language_info": {
   "codemirror_mode": {
    "name": "ipython",
    "version": 3
   },
   "file_extension": ".py",
   "mimetype": "text/x-python",
   "name": "python",
   "nbconvert_exporter": "python",
   "pygments_lexer": "ipython3",
   "version": "3.7.4"
  }
 },
 "nbformat": 4,
 "nbformat_minor": 2
}
