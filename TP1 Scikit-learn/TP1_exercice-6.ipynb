{
 "cells": [
  {
   "cell_type": "markdown",
   "metadata": {},
   "source": [
    "# TP1 - exercice 6 : mise en oeuvre de **pipelines** d'analyse\n",
    "\n",
    "Dans cet exercice nous verrons comment construire, grâce à la classe [**Pipeline**](http://scikit-learn.org/stable/modules/generated/sklearn.pipeline.Pipeline.html), des \"pipelines\" combinant plusieurs briques élémentaires en un processus séquentiel plus complexe, et comment optimiser leurs paramètres via la classe **GridSearchCV**.\n",
    "\n",
    "Nous travaillerons toujours à partir de l'algorithme des $k$-ppv et de la classe **KNeighborsClassifier** et nous utiliserons le jeu de données **wine** dont on trouve un descriptif sur le [site de l'UCI](https://archive.ics.uci.edu/ml/machine-learning-databases/wine/wine.data).\n",
    "\n",
    "En l'occurence nous constuirons un pipeline combinant standardisation des des descripteurs, ACP et $k$-ppv, ce qui nous permettra de revoir comment réaliser une ACP sous scikit-learn. "
   ]
  },
  {
   "cell_type": "markdown",
   "metadata": {},
   "source": [
    "## Question 1. Charger le jeu de données stocké dans le fichier *wine.csv*. La variable à prédire est contenue dans la colonne *wine* . Découper le jeu de données en variables d'entrée ($X$) et variable à prédire ($y$). Extraire le nombre d'observations et de descripteurs disponibles et représenter sous la forme d'un diagramme en bâton (barplot) les effectifs par classe. \n",
    "\n",
    "* NB : on pourra procéder par **pandas** ou par **numpy** directement."
   ]
  },
  {
   "cell_type": "code",
   "execution_count": null,
   "metadata": {
    "collapsed": true
   },
   "outputs": [],
   "source": [
    "# generic imports #\n",
    "#-----------------#\n",
    "import numpy as np\n",
    "import matplotlib\n",
    "import matplotlib.pyplot as plt"
   ]
  },
  {
   "cell_type": "code",
   "execution_count": null,
   "metadata": {},
   "outputs": [],
   "source": []
  },
  {
   "cell_type": "markdown",
   "metadata": {},
   "source": [
    "## Question 2. Calculer une version \"standardisée\" du jeu de données en standardisant chaque descripteur et réaliser une analyse en composante principale avec et sans standardisation. Que constatez-vous ?\n",
    "\n",
    "* pour standardiser les descripteurs on s'appuyera sur la classe [**StandardScaler**](http://scikit-learn.org/stable/modules/generated/sklearn.preprocessing.StandardScaler.html).\n",
    "* on réaliser une ACP en utilisant la classe [**PCA**](http://scikit-learn.org/stable/modules/generated/sklearn.decomposition.PCA.html) du module *decomposition*. \n",
    "* On considèrera deux composantes et on représentera les résultats sous la forme d'un nuage de points coloré en fonction de la variable à prédire."
   ]
  },
  {
   "cell_type": "code",
   "execution_count": null,
   "metadata": {},
   "outputs": [],
   "source": []
  },
  {
   "cell_type": "markdown",
   "metadata": {},
   "source": [
    "## Question 3. Nous allons a présent constuire un modèle de classification par $k$-ppv en travaillant dans l'espace ACP obtenu après avoir standardisé les descripteurs.\n",
    "\n",
    "### 1) Définir un \"pipeline\" combinant (i) standardisation des features, (ii) réduction aux premières composantes principales et (ii) classification par $k$-ppv.\n",
    "\n",
    "* voir l'exemple donné dans le cours, et/ou la documentation de la classe **Pipeline** pour davantage d'informations."
   ]
  },
  {
   "cell_type": "code",
   "execution_count": null,
   "metadata": {
    "collapsed": true
   },
   "outputs": [],
   "source": []
  },
  {
   "cell_type": "markdown",
   "metadata": {},
   "source": [
    "### 2) On souhaite optimiser les paramètres du modèle en utilisant la classe *GridSearchCV*, et en considérant comme valeurs candidates $\\{2,3,4\\}$ composantes principales et $\\{1,3,5,7,9\\}$ nombres de voisins. Construire le \"dictionnaire\" définissant cette grille de paramètres.\n",
    "\n",
    "* idem, voir l'exemple donné dans le cours et/ou la documentation de la classe **Pipeline** pour davantage d'informations\n",
    "* notons juste qu'on définit la grille de paramètres de la même manière que pour un estimateur isolé, mais qu'on préfixe le nom du paramètre (*e.g., n_components*) par le nom donné à l'estimateur correspondant dans le pipeline (*e.g., proj\\_\\_*, **avec deux \\_**)."
   ]
  },
  {
   "cell_type": "code",
   "execution_count": null,
   "metadata": {
    "collapsed": true
   },
   "outputs": [],
   "source": []
  },
  {
   "cell_type": "markdown",
   "metadata": {},
   "source": [
    "### C) Optimiser les paramètres du pipeline grâce à la classe *GridSearchCV*. Quelle est la meilleure configuration retenue ? Pour quel niveau de performance ?"
   ]
  },
  {
   "cell_type": "code",
   "execution_count": null,
   "metadata": {},
   "outputs": [],
   "source": []
  },
  {
   "cell_type": "markdown",
   "metadata": {},
   "source": [
    "## Question 4. Comparer cette performance avec celle d'une approche plus simple où les étapes de standardisation et de réduction par ACP sont réalisées au préalable. Observe t'on une différence marquée sur ce jeu de données ? Quel est en général l'intérêt d'intégrer les différentes opérations de pré-traitement lors de l'optimisation du modèle ? \n",
    "\n",
    "* en d'autres termes, on commence par transformer le jeu de données puis on optimise le nombre de voisins à considérer.\n",
    "* on considèrera pour cela une ACP mettant en jeu le **même nombre de composantes** que le nombre retenu dans la question prédécente."
   ]
  },
  {
   "cell_type": "code",
   "execution_count": null,
   "metadata": {
    "collapsed": true
   },
   "outputs": [],
   "source": []
  }
 ],
 "metadata": {
  "kernelspec": {
   "display_name": "Python 3",
   "language": "python",
   "name": "python3"
  },
  "language_info": {
   "codemirror_mode": {
    "name": "ipython",
    "version": 3
   },
   "file_extension": ".py",
   "mimetype": "text/x-python",
   "name": "python",
   "nbconvert_exporter": "python",
   "pygments_lexer": "ipython3",
   "version": "3.6.1"
  }
 },
 "nbformat": 4,
 "nbformat_minor": 2
}
