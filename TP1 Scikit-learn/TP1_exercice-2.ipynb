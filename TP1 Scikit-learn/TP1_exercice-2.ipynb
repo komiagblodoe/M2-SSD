{
 "cells": [
  {
   "cell_type": "markdown",
   "metadata": {},
   "source": [
    "# TP 1 - exercice 2 :  premiers pas avec Scikit-Learn - ACP\n",
    "\n",
    "Dans cet exercice nous allons réaliser quelques opérations de base en Python et Scikit-Learn.\n",
    "L'objectif sera simplement de réaliser une ACP d'un jeu de données et de le représenter selon ses premières composantes principales.\n",
    "\n",
    "Nous apprendrons pour cela à manipuler les classes les classes **PCA** du module *decomposition* de Scikit-Learn, et nous utiliserons le jeu de données **digits**, qui contient des images de chiffres manuscrits.\n",
    "On peut le [charger à partir de scikit-learn](http://scikit-learn.org/stable/modules/generated/sklearn.datasets.load_digits.html#sklearn.datasets.load_digits) et dont on trouve un descriptif sur le [site de l'UCI](http://archive.ics.uci.edu/ml/datasets/Optical+Recognition+of+Handwritten+Digits).\n",
    "\n",
    "Cet exercice sera également l'occasion de manipuler les fonctions de MatPlotLib permettant de réaliser des \"scatterplots\" incluant une code couleur reflétant une catégorie."
   ]
  },
  {
   "cell_type": "markdown",
   "metadata": {},
   "source": [
    "### Question 1. Charger le jeu de données en utilisant la fonction *load_digits*  du module *datasets* de Scikit-Learn. De combien d'observations et de catégories est-il constitué ?"
   ]
  },
  {
   "cell_type": "code",
   "execution_count": null,
   "metadata": {
    "collapsed": true
   },
   "outputs": [],
   "source": [
    "# generic imports #\n",
    "#-----------------#\n",
    "import numpy as np\n",
    "import matplotlib\n",
    "import matplotlib.pyplot as plt"
   ]
  },
  {
   "cell_type": "code",
   "execution_count": null,
   "metadata": {},
   "outputs": [],
   "source": []
  },
  {
   "cell_type": "markdown",
   "metadata": {},
   "source": [
    " ### Question 2. Réaliser une ACP du jeu de données en utilisant la classe *PCA* du module *decomposition* de Scikit-Learn. On considèrera 2 composantes principales.\n",
    "* on rappelle que pour construire un modèle (un 'estimateur') dans Scikit-Learn il suffit : \n",
    "    1. de charger la classe correspondante (ici from 'sklearn.decomposition import PCA')\n",
    "    2. d'instancier le modèle\n",
    "    3. d'appeler sa méthode **fit** à partir des données d'apprentissage.\n",
    "* la classe PCA est un \"transformeur\" et pas un \"predicteur\". Ainsi, la méthode **fit** a pour effet d'apprendre les transformations linéaires définissant les composantes principales. Pour obtenir les coordonnées des observations dans l'espace des composantes, il faut ensuite appeler la méthode **transform**.\n",
    "* notons néanmoins que l'on peut également faire tout d'un coup en appelant directement la méthode **fit_transform**."
   ]
  },
  {
   "cell_type": "code",
   "execution_count": null,
   "metadata": {
    "collapsed": true
   },
   "outputs": [],
   "source": []
  },
  {
   "cell_type": "markdown",
   "metadata": {},
   "source": [
    " ### Question 3. Représenter le jeu de données dans l'espace ACP en utilisant un code couleur reflétant leur catégorie (i.e., un chiffre entre 0 et 9).\n",
    "* On pourra par exemple utiliser la fonction **scatter** de MatPlotLib."
   ]
  },
  {
   "cell_type": "code",
   "execution_count": null,
   "metadata": {},
   "outputs": [],
   "source": []
  }
 ],
 "metadata": {
  "kernelspec": {
   "display_name": "Python 3",
   "language": "python",
   "name": "python3"
  },
  "language_info": {
   "codemirror_mode": {
    "name": "ipython",
    "version": 3
   },
   "file_extension": ".py",
   "mimetype": "text/x-python",
   "name": "python",
   "nbconvert_exporter": "python",
   "pygments_lexer": "ipython3",
   "version": "3.7.4"
  }
 },
 "nbformat": 4,
 "nbformat_minor": 2
}
