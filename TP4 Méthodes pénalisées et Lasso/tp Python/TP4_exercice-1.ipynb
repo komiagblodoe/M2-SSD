{
 "cells": [
  {
   "cell_type": "markdown",
   "metadata": {},
   "source": [
    "# TP4 - exercice 1 : le BA-BA du package glmnet_python\n",
    "\n",
    "Dans cet exercice nous allons illustrer l'utilisation du package [glmnet_python](https://github.com/bbalasub1/glmnet_python/) sur un problème de classification. \n",
    "\n",
    "Pour cela nous travaillerons sur le jeu de données **South Africa Heart Disease**, utilisé à fins illstratives dans le livre [Elements of Statistical Learning](https://web.stanford.edu/~hastie/ElemStatLearn/) et que l'on peut télécharger sur [cette page](https://web.stanford.edu/~hastie/ElemStatLearn/).\n",
    "\n",
    "Le package **glmnet_python** n'est pas installé par défaut, il faut donc au préalable suivre la procédure d'installation décrite sur le [repositoty github](https://github.com/bbalasub1/glmnet_python/), qui devrait se limiter à la commande suivante : **pip install glmnet_py**.\n",
    "\n",
    "Nous nous limiterons ici à un problème de classification binaire, mettant donc en jeu un modèle de régression logistique, mais [ce notebook](https://github.com/bbalasub1/glmnet_python/blob/master/test/glmnet_examples.ipynb) illustre l'utilisation du package de manière bien plus complète."
   ]
  },
  {
   "cell_type": "markdown",
   "metadata": {},
   "source": [
    "## Question 1. Charger le jeu de données contenu dans le fichier **SAheart.data** via la fonction **read_csv()** du package **pandas**.\n",
    "* ce fichier a été téléchargé d'[ici](https://web.stanford.edu/~hastie/ElemStatLearn/datasets/SAheart.data)\n",
    "* on pourra explorer le jeu de données avec les fonctions **describe** et **hist** de pandas.      "
   ]
  },
  {
   "cell_type": "code",
   "execution_count": null,
   "metadata": {},
   "outputs": [],
   "source": [
    "# generic imports #\n",
    "#-----------------#\n",
    "import numpy as np\n",
    "import matplotlib\n",
    "import matplotlib.pyplot as plt\n",
    "import pandas as pd"
   ]
  },
  {
   "cell_type": "code",
   "execution_count": null,
   "metadata": {},
   "outputs": [],
   "source": []
  },
  {
   "cell_type": "markdown",
   "metadata": {},
   "source": [
    "## Question 2. Mettre en forme le jeu de données : \n",
    " - 1 : extraire la variable réponse, qui est contenue dans le champ **chd**\n",
    "     * NB : les fonctions du package **glmnet** attendent des variables réelles (float), il faut donc la convertir si ce n'est pas le cas.\n",
    " - 2 : transformer le descripteur qualitatif **famhist** en descripteur(s) quantitatifs\n",
    " - 3 : standardiser les descripteurs"
   ]
  },
  {
   "cell_type": "code",
   "execution_count": null,
   "metadata": {},
   "outputs": [],
   "source": []
  },
  {
   "cell_type": "markdown",
   "metadata": {},
   "source": [
    "## Question 3. Construire un modèle lasso avec la fonction *glmnet* et représenter le chemon de régularisation avec la fonction *glmnetPlot*. \n",
    "* NB : par défaut la fonction **glmnet** considère 100 valeurs du paramètre de régularisation défini automatiquement (se référer à la documentation pour davantage de précisions)."
   ]
  },
  {
   "cell_type": "code",
   "execution_count": null,
   "metadata": {},
   "outputs": [],
   "source": [
    "# import package\n",
    "import glmnet_python\n",
    "# import function\n",
    "from glmnet import glmnet\n"
   ]
  },
  {
   "cell_type": "markdown",
   "metadata": {},
   "source": [
    "## Question 4. Faire de même pour une pénalité \"ridge\".\n",
    "* il suffit pour cela de modifier le paramètre $\\texttt{alpha}$ qui contrôle la pénalité *elasticNet* considérée : $\\Omega(w) = \\alpha ||w||_1 + \\frac{1-\\alpha}{2} ||w||_2^2$."
   ]
  },
  {
   "cell_type": "code",
   "execution_count": null,
   "metadata": {},
   "outputs": [],
   "source": []
  },
  {
   "cell_type": "markdown",
   "metadata": {},
   "source": [
    "## Question 5. Optimiser le paramètre de régularisation de ces deux modèles en utilisant la fonction *cvglmnet* et représenter les résultats obtenus avec la fonction *cvglmnetPlot*.\n",
    "* on considèrera le taux de bonne classification (accuracy) comme critère de performance, que l'on peut définir grâce à l'option $\\texttt{ptype=\"class\"}$."
   ]
  },
  {
   "cell_type": "code",
   "execution_count": null,
   "metadata": {},
   "outputs": [],
   "source": []
  },
  {
   "cell_type": "markdown",
   "metadata": {},
   "source": [
    "## Question 6. Extraire les coefficients retenus en utilisant la fonction *cvglmnetCoef()* pour les deux modèles et les comparer.\n",
    "* on considèrera pour cela le paramètre $\\texttt{s='lambda_1se'}$ qui ne considère pas le paramètre de régularisation donnant la valeur maximale de l'accuracy, mais qui tolère une performance sensiblement plus faible pour obtenir un modèle plus parcimonieux (en considérant donc une valeur de $\\lambda$ plus importante).\n",
    "* NB : on peut également utiliser la fonction **glmnetCoef()** pour extraire les coefficients à partir du fit global (obtenu par la fonction **glmnet()**). Dans ce cas on doit explicitement lui passer la valeur numérique du paramètre retenu, alors qu'avec **cvglmnetCoef()** on peut directement lui passer la chaine de caractère $\\texttt{lambda_min}.$\n",
    "* NB : le 1er coefficient renvoyé est l'intercept du modèle."
   ]
  },
  {
   "cell_type": "code",
   "execution_count": null,
   "metadata": {},
   "outputs": [],
   "source": []
  },
  {
   "cell_type": "markdown",
   "metadata": {},
   "source": [
    "## Question 7. Extraire les prédictions correspondantes (sur les données d'apprentissage) via la fonction *cvglmnetPredict()*.\n",
    "* par défaut cette fonction renvoie le score du modèle linéaire : $f(x) = \\langle w,x \\rangle +b$.\n",
    "* on obtient la classe en spécifiant l'option $\\texttt{ptype='class'}$\n",
    "* on obtient la probabilité a posteriori d'être dans la classe positive n spécifiant l'option $\\texttt{ptype='response'}$\n",
    "* là aussi, on peut obtenir de la même manière les prédictions à partir du \"fit\" global ou du \"fit\" par validation croisée."
   ]
  },
  {
   "cell_type": "code",
   "execution_count": null,
   "metadata": {},
   "outputs": [],
   "source": []
  }
 ],
 "metadata": {
  "kernelspec": {
   "display_name": "Python 3",
   "language": "python",
   "name": "python3"
  },
  "language_info": {
   "codemirror_mode": {
    "name": "ipython",
    "version": 3
   },
   "file_extension": ".py",
   "mimetype": "text/x-python",
   "name": "python",
   "nbconvert_exporter": "python",
   "pygments_lexer": "ipython3",
   "version": "3.5.4"
  }
 },
 "nbformat": 4,
 "nbformat_minor": 2
}
